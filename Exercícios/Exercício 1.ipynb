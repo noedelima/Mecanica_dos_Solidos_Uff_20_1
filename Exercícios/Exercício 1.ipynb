{
 "metadata": {
  "language_info": {
   "codemirror_mode": {
    "name": "ipython",
    "version": 3
   },
   "file_extension": ".py",
   "mimetype": "text/x-python",
   "name": "python",
   "nbconvert_exporter": "python",
   "pygments_lexer": "ipython3",
   "version": "3.8.2-final"
  },
  "orig_nbformat": 2,
  "kernelspec": {
   "name": "python_defaultSpec_1600549645375",
   "display_name": "Python 3.8.2 64-bit"
  }
 },
 "nbformat": 4,
 "nbformat_minor": 2,
 "cells": [
  {
   "source": [
    "# Exercício 1"
   ],
   "cell_type": "markdown",
   "metadata": {}
  },
  {
   "source": [
    "Exercício com data de entrega para 21 de setembro de 2020."
   ],
   "cell_type": "markdown",
   "metadata": {}
  },
  {
   "source": [
    "import numpy as np\n",
    "import sympy as sp\n",
    "import matplotlib.pyplot as plt\n",
    "from IPython.display import display, Math\n",
    "sp.init_printing(use_latex='mathjax',latex_mode='equation*')"
   ],
   "cell_type": "code",
   "metadata": {},
   "execution_count": 1,
   "outputs": []
  },
  {
   "source": [
    "<img src=\"Figuras/PA1-1.png\">"
   ],
   "cell_type": "markdown",
   "metadata": {}
  },
  {
   "source": [
    "# Solução"
   ],
   "cell_type": "markdown",
   "metadata": {}
  },
  {
   "source": [
    "## Esforços Solicitantes"
   ],
   "cell_type": "markdown",
   "metadata": {}
  },
  {
   "source": [
    "Na seção $S$, vista pelo lado direito, temos os seguintes esforços solicitantes:"
   ],
   "cell_type": "markdown",
   "metadata": {}
  },
  {
   "cell_type": "code",
   "execution_count": 2,
   "metadata": {
    "tags": []
   },
   "outputs": [
    {
     "output_type": "display_data",
     "data": {
      "text/plain": "<IPython.core.display.Math object>",
      "text/latex": "$\\displaystyle N = -4~kN$"
     },
     "metadata": {}
    },
    {
     "output_type": "display_data",
     "data": {
      "text/plain": "<IPython.core.display.Math object>",
      "text/latex": "$\\displaystyle |V_{y}| = 9~kN$"
     },
     "metadata": {}
    },
    {
     "output_type": "display_data",
     "data": {
      "text/plain": "<IPython.core.display.Math object>",
      "text/latex": "$\\displaystyle |V_{z}| = 13~kN$"
     },
     "metadata": {}
    },
    {
     "output_type": "display_data",
     "data": {
      "text/plain": "<IPython.core.display.Math object>",
      "text/latex": "$\\displaystyle T_{x} = 0$"
     },
     "metadata": {}
    },
    {
     "output_type": "display_data",
     "data": {
      "text/plain": "<IPython.core.display.Math object>",
      "text/latex": "$\\displaystyle M_{y} = 5.20~\\times 10^{6} N\\cdot mm$"
     },
     "metadata": {}
    },
    {
     "output_type": "display_data",
     "data": {
      "text/plain": "<IPython.core.display.Math object>",
      "text/latex": "$\\displaystyle M_{z} = -3.60~\\times 10^{6} N\\cdot mm$"
     },
     "metadata": {}
    }
   ],
   "source": [
    "N = -4000\n",
    "Vy = 9000\n",
    "Vz = 13000\n",
    "Tx = 0\n",
    "My = (13e3*400e-3/1e3)*1e6\n",
    "Mz = (-9e3*400e-3/1e3)*1e6\n",
    "display(Math('N = %d~kN' % (N/1e3)))\n",
    "display(Math('|V_{y}| = %d~kN' % (Vy/1e3)))\n",
    "display(Math('|V_{z}| = %d~kN' % (Vz/1e3)))\n",
    "display(Math('T_{x} = %d' % Tx))\n",
    "display(Math('M_{y} = %.2f~\\\\times 10^{6} N\\cdot mm' % (My/1e6)))\n",
    "display(Math('M_{z} = %.2f~\\\\times 10^{6} N\\cdot mm' % (Mz/1e6)))"
   ]
  },
  {
   "source": [
    "## Cálculo da Área Total"
   ],
   "cell_type": "markdown",
   "metadata": {}
  },
  {
   "cell_type": "code",
   "execution_count": 3,
   "metadata": {},
   "outputs": [
    {
     "output_type": "display_data",
     "data": {
      "text/plain": "<IPython.core.display.Math object>",
      "text/latex": "$\\displaystyle A = 4537~mm^{2}$"
     },
     "metadata": {}
    }
   ],
   "source": [
    "A = 150*75 - (150-13)*(75-26)\n",
    "display(Math(r'A = %d~mm^{2}' % A))"
   ]
  },
  {
   "source": [
    "## Momentos de Inércia Estáticos"
   ],
   "cell_type": "markdown",
   "metadata": {}
  },
  {
   "source": [
    "\\begin{equation*}\n",
    "    I_{y} = \\frac{13\\times 49^{3}}{12} + 2\\times \\left[\\frac{150\\times 13^{3}}{12} + 150\\times 13\\times 31^{2}\\right]\n",
    "\\end{equation*}\n",
    "\n",
    "\\begin{equation*}\n",
    "    I_{z} = \\frac{2\\times 13\\times 150^{3}}{12} + \\frac{49\\times 13^{3}}{12}\n",
    "\\end{equation*}"
   ],
   "cell_type": "markdown",
   "metadata": {}
  },
  {
   "cell_type": "code",
   "execution_count": 4,
   "metadata": {
    "tags": []
   },
   "outputs": [
    {
     "output_type": "display_data",
     "data": {
      "text/plain": "<IPython.core.display.Math object>",
      "text/latex": "$\\displaystyle I_{y} = 3.93\\times 10^{-6} mm^{4}$"
     },
     "metadata": {}
    },
    {
     "output_type": "display_data",
     "data": {
      "text/plain": "<IPython.core.display.Math object>",
      "text/latex": "$\\displaystyle I_{z} = 7.32\\times 10^{-6} mm^{4}$"
     },
     "metadata": {}
    }
   ],
   "source": [
    "Iy = 13*(49**3)/12 + 2*(150*(13**3)/12 + 150*13*31**2)\n",
    "display(Math(r'I_{y} = %.2f\\times 10^{-6} mm^{4}' % (Iy/1e6)))\n",
    "Iz = 2*13*(150**3)/12 + 49*(13**3)/12\n",
    "display(Math(r'I_{z} = %.2f\\times 10^{-6} mm^{4}' % (Iz/1e6)))"
   ]
  },
  {
   "source": [
    "## Momento Estático em $y$"
   ],
   "cell_type": "markdown",
   "metadata": {}
  },
  {
   "source": [
    "\\begin{equation*}\n",
    "    \\bar{d} = \\frac{13\\times 24,5\\times 12,25 + 150\\times 13\\times 31}{13\\times 24,5 + 150\\times 13}\n",
    "\\end{equation*}"
   ],
   "cell_type": "markdown",
   "metadata": {}
  },
  {
   "source": [],
   "cell_type": "markdown",
   "metadata": {}
  },
  {
   "cell_type": "code",
   "execution_count": 5,
   "metadata": {},
   "outputs": [
    {
     "output_type": "display_data",
     "data": {
      "text/plain": "<IPython.core.display.Math object>",
      "text/latex": "$\\displaystyle \\bar{d} = 28.37~mm$"
     },
     "metadata": {}
    }
   ],
   "source": [
    "d = (13*24.5*12.25 + 150*13*31)/(13*24.5 + 150*13)\n",
    "display(Math(r'\\bar{d} = %.2f~mm' % d))"
   ]
  },
  {
   "source": [
    "\\begin{equation*}\n",
    "    Q_{y} = \\left(13\\times 24,5 + 150\\times 13\\right)\\times 28,37\n",
    "\\end{equation*}"
   ],
   "cell_type": "markdown",
   "metadata": {}
  },
  {
   "cell_type": "code",
   "execution_count": 6,
   "metadata": {},
   "outputs": [
    {
     "output_type": "display_data",
     "data": {
      "text/plain": "<IPython.core.display.Math object>",
      "text/latex": "$\\displaystyle Q_{y} = 64351.62~mm^{3}$"
     },
     "metadata": {}
    }
   ],
   "source": [
    "Qy = (13*24.5 + 150*13)*d\n",
    "display(Math(r'Q_{y} = %.2f~mm^{3}' % Qy))"
   ]
  },
  {
   "source": [
    "## Ponto $a$"
   ],
   "cell_type": "markdown",
   "metadata": {}
  },
  {
   "source": [
    "### Tensão Normal $\\sigma_{x}$"
   ],
   "cell_type": "markdown",
   "metadata": {}
  },
  {
   "source": [
    "\\begin{equation*}\n",
    "    \\sigma_{x} = \\frac{N}{A} - \\frac{M_{z}y}{I_{z}} + \\frac{M_{y}z}{I_{y}}\n",
    "\\end{equation*}"
   ],
   "cell_type": "markdown",
   "metadata": {}
  },
  {
   "cell_type": "code",
   "execution_count": 7,
   "metadata": {},
   "outputs": [
    {
     "output_type": "display_data",
     "data": {
      "text/plain": "<IPython.core.display.Math object>",
      "text/latex": "$\\displaystyle \\sigma_{x} = 11.86~MPa$"
     },
     "metadata": {}
    }
   ],
   "source": [
    "sigma_x = N/A - (Mz*(-75)/Iz) + (My*37.5/Iy)\n",
    "display(Math(r'\\sigma_{x} = %.2f~MPa' % sigma_x))"
   ]
  },
  {
   "source": [
    "### Tensão Normal $\\sigma_{y}$"
   ],
   "cell_type": "markdown",
   "metadata": {}
  },
  {
   "source": [
    "Como não há força comprimindo ou tracionando na direção $y$, temos, diretamente:"
   ],
   "cell_type": "markdown",
   "metadata": {}
  },
  {
   "cell_type": "code",
   "execution_count": 8,
   "metadata": {},
   "outputs": [
    {
     "output_type": "display_data",
     "data": {
      "text/plain": "<IPython.core.display.Math object>",
      "text/latex": "$\\displaystyle \\sigma_{y} = 0$"
     },
     "metadata": {}
    }
   ],
   "source": [
    "sigma_y = 0\n",
    "display(Math(r'\\sigma_{y} = %d' % sigma_y))"
   ]
  },
  {
   "source": [
    "### Tensão Cisalhantes $\\tau_{xy}$"
   ],
   "cell_type": "markdown",
   "metadata": {}
  },
  {
   "cell_type": "code",
   "execution_count": null,
   "metadata": {},
   "outputs": [],
   "source": []
  }
 ]
}