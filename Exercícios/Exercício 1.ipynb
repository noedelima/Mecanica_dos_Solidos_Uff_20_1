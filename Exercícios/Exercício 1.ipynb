{
 "metadata": {
  "language_info": {
   "codemirror_mode": {
    "name": "ipython",
    "version": 3
   },
   "file_extension": ".py",
   "mimetype": "text/x-python",
   "name": "python",
   "nbconvert_exporter": "python",
   "pygments_lexer": "ipython3",
   "version": "3.8.5-final"
  },
  "orig_nbformat": 2,
  "kernelspec": {
   "name": "python38564bitafe1b5ab5b8c4a659d5d6f1a65a40c68",
   "display_name": "Python 3.8.5 64-bit"
  }
 },
 "nbformat": 4,
 "nbformat_minor": 2,
 "cells": [
  {
   "source": [
    "# Exercício 1"
   ],
   "cell_type": "markdown",
   "metadata": {}
  },
  {
   "source": [
    "Exercício com data de entrega para 21 de setembro de 2020."
   ],
   "cell_type": "markdown",
   "metadata": {}
  },
  {
   "source": [
    "import numpy as np\n",
    "import sympy as sp\n",
    "import matplotlib.pyplot as plt\n",
    "from IPython.display import display, Math\n",
    "sp.init_printing(use_latex='mathjax',latex_mode='equation*')"
   ],
   "cell_type": "code",
   "metadata": {},
   "execution_count": 1,
   "outputs": []
  },
  {
   "source": [
    "<img src=\"Figuras/PA1-1.png\">"
   ],
   "cell_type": "markdown",
   "metadata": {}
  },
  {
   "source": [
    "# Solução"
   ],
   "cell_type": "markdown",
   "metadata": {}
  },
  {
   "source": [
    "## Esforços Solicitantes"
   ],
   "cell_type": "markdown",
   "metadata": {}
  },
  {
   "cell_type": "code",
   "execution_count": 2,
   "metadata": {
    "tags": []
   },
   "outputs": [
    {
     "output_type": "display_data",
     "data": {
      "text/plain": "<IPython.core.display.Math object>",
      "text/latex": "$\\displaystyle M_{y} = 5.20~kN\\cdot m$"
     },
     "metadata": {}
    },
    {
     "output_type": "display_data",
     "data": {
      "text/plain": "<IPython.core.display.Math object>",
      "text/latex": "$\\displaystyle M_{z} = -3.60~kN\\cdot m$"
     },
     "metadata": {}
    }
   ],
   "source": [
    "display(Math('M_{y} = %.2f~kN\\cdot m' % (13e3*400e-3/1e3)))\n",
    "display(Math('M_{z} = %.2f~kN\\cdot m' % (-9e3*400e-3/1e3)))"
   ]
  },
  {
   "source": [
    "Na seção $S$, vista pelo lado direito, temos os seguintes esforços solicitantes:\n",
    "\n",
    "* $N = -4kN$ Força Normal;\n",
    "\n",
    "* $V_{y} = 9kN$ Força Cortante em $y$;\n",
    "\n",
    "* $V_{z} = 13kN$ Força Cortante em $z$;\n",
    "\n",
    "* $T_{x} = 0$ Torção em $x$;\n",
    "\n",
    "* $M_{y} = 5,2kN\\cdot m$ Momento em $y$;\n",
    "\n",
    "* $M_{z} = -3,6kN\\cdot m$ Momento em $z$."
   ],
   "cell_type": "markdown",
   "metadata": {}
  },
  {
   "source": [
    "## Momentos de Inércia Estáticos"
   ],
   "cell_type": "markdown",
   "metadata": {}
  },
  {
   "cell_type": "code",
   "execution_count": 3,
   "metadata": {
    "tags": []
   },
   "outputs": [
    {
     "output_type": "display_data",
     "data": {
      "text/plain": "<IPython.core.display.Math object>",
      "text/latex": "$\\displaystyle I_{y} = 3.93\\times 10^{-6} mm^{4}$"
     },
     "metadata": {}
    },
    {
     "output_type": "display_data",
     "data": {
      "text/plain": "<IPython.core.display.Math object>",
      "text/latex": "$\\displaystyle I_{z} = 7.32\\times 10^{-6} mm^{4}$"
     },
     "metadata": {}
    }
   ],
   "source": [
    "Iy = 13*(49**3)/12 + 2*(150*(13**3)/12 + 150*13*31**2)\n",
    "display(Math(r'I_{y} = %.2f\\times 10^{-6} mm^{4}' % (Iy/1e6)))\n",
    "Iz = 2*13*(150**3)/12 + 49*(13**3)/12\n",
    "display(Math(r'I_{z} = %.2f\\times 10^{-6} mm^{4}' % (Iz/1e6)))"
   ]
  }
 ]
}