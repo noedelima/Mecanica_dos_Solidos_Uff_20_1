{
 "cells": [
  {
   "cell_type": "markdown",
   "metadata": {},
   "source": [
    "# Mecânica dos Sólidos II\n",
    "\n",
    "Universidade Federal Fluminense\n",
    "\n",
    "Disciplina ministrada pela Prof. Eliane Maria Lopes Carvalho\n",
    "\n",
    "<elianemaria@id.uff.br>\n",
    "\n",
    "Aluno Noé de Lima Bezerra\n",
    "\n",
    "<noe_lima@id.uff.br>\n",
    "\n",
    "Este caderno visa manter um resumo do conteúdo ministrado na disciplina, dada em EAD, através da plataforma Google Classroom.\n",
    "\n",
    "Primeiro semestre de 2020\n",
    "\n",
    "\\vfill\n",
    "\n",
    "A célula a seguir configura o Jupyter-Notebook para exibir as equações matemáticas no formato do ambiente $\\LaTeX$ e importa as bibliotecas necessárias."
   ]
  },
  {
   "cell_type": "code",
   "execution_count": 1,
   "metadata": {
    "tags": []
   },
   "outputs": [
    {
     "name": "stderr",
     "output_type": "stream",
     "text": [
      "'uname' n�o � reconhecido como um comando interno\n",
      "ou externo, um programa oper�vel ou um arquivo em lotes.\n"
     ]
    }
   ],
   "source": [
    "import numpy as np\n",
    "import sympy as sp\n",
    "import matplotlib.pyplot as plt\n",
    "sp.init_printing(use_latex='mathjax',latex_mode='equation*')\n",
    "!uname -a # Comando para ambiente UNIX apenas"
   ]
  },
  {
   "cell_type": "markdown",
   "metadata": {},
   "source": [
    "\\cleardoublepage\n",
    "\n",
    "\\tableofcontents\n",
    "\n",
    "\\cleardoublepage"
   ]
  },
  {
   "cell_type": "markdown",
   "metadata": {},
   "source": [
    "# Introdução"
   ]
  },
  {
   "cell_type": "markdown",
   "metadata": {},
   "source": [
    "## Dados da Disciplina\n",
    "\n",
    "Disciplina: Mecânica dos Sólidos II\n",
    "\n",
    "Código: TEC00253\n",
    "\n",
    "Período: 2020.1\n",
    "\n",
    "Carga horária: 60 horas\n",
    "\n",
    "Número de créditos: 4 horas\n",
    "\n",
    "\n",
    "Horário: Segunda/Quarta das 16:00 às 18:00 h\n",
    "\n",
    "Local: Aulas Síncronas e Assíncronas\n",
    "\n",
    "Ferramentas digitais utilizadas: Google Classroom e Google Meet (aulas síncronas e assíncronas)\n",
    "\n",
    "\n",
    "Professora: Eliane Maria Lopes Carvalho\n",
    "\n",
    "Departamento Engenharia Civil\n",
    "\n",
    "E-mail: <elianemaria@id.uff.br>"
   ]
  },
  {
   "cell_type": "markdown",
   "metadata": {},
   "source": [
    "## Programa da Disciplina\n",
    "\n",
    "1. Análise de Tensões\n",
    "\n",
    "2. Critérios de Resistência\n",
    "\n",
    "3. Vasos de Pressão \n",
    "\n",
    "4. Análise de Deformação\n",
    "\n",
    "5. Deformação na Flexão\n",
    "\n",
    "6. Flambagem de Colunas\n",
    "\n",
    "7. Energia de Deformação\n",
    "\n",
    "8. Princípio dos Trabalhos Virtuais"
   ]
  },
  {
   "cell_type": "markdown",
   "metadata": {},
   "source": [
    "## Critério de Aprovação\n",
    "\n",
    "Três Períodos de Avaliação:\n",
    "\n",
    "* $PA_{1}$ - avaliação referentes ao itens 1 a 4 do Programa da Disciplina;\n",
    "\n",
    "* $PA_{2}$ - avaliação referentes ao itens 5 e 6 do Programa da Disciplina;\n",
    "\n",
    "* $PA_{3}$ - avaliação referentes ao itens 7 e 8 do Programa da Disciplina.\n",
    "\n",
    "\n",
    "Dois tipos de Atividades de Avaliação (assíncronas) para cada PA:\n",
    "\n",
    "1. Formulários ($FT_{i}$) com questões relativas aos vídeos disponibilizados sobre a teoria dos itens do programa da disciplina;\n",
    "\n",
    "2. Exercícios Propostos ($EP_{i}$) durante o período.\n",
    "\n",
    "Plataforma das atividades: Google Classroom.\n",
    "\n",
    "$$Nota = 0,3 \\times \\frac{FT_{1} +  FT_{2} +........+FT_{n}}{n} + 0,7 \\times \\frac{EP_{1} + EP_{2}+...+EP_{n}}{n}$$\n",
    "\n",
    "Obs: será descartada a menor nota $EP_{i}$\n",
    "\n",
    "\n",
    "Pontos Extras:\n",
    "\n",
    "* Liberalidade e decisão do Professor.\n",
    "\n",
    "* Ponto para os alunos que utilizarem e colaborarem nas DÚVIDAS - AJUDA DA TURMA no Google Classroom - até $0,5$ ponto.\n",
    "\n",
    "* Ponto para os alunos que participarem e colaborarem nas aulas síncronas - até $0,5$ ponto.\n",
    "\n",
    "\n",
    "$$Media = \\frac{PA_{1} + PA_{2} + PA_{3}}{3}$$\n",
    "\n",
    "\n",
    "* Média maior ou igual a $6,0$ - aprovado\n",
    "\n",
    "* Média menor ou igual a $4,0$ - reprovado\n",
    "\n",
    "* Média maior ou igual a $4,0$ e menor do que $6,0$ - Verificação Suplementar (VS)\n",
    "\n",
    "\n",
    "\n",
    "VR - Verificação de Reposição: A falta de entrega de Exercício Proposto ($EP_{i}$) será considerada como a nota descartada. Portanto, o aluno poderá não entregar um exercício por cada Período de Avaliação\n",
    "\n",
    "VS - Verificação Suplementar no final do período letivo (síncrona)"
   ]
  },
  {
   "cell_type": "markdown",
   "metadata": {},
   "source": [
    "## Bibliografia\n",
    "\n",
    "Beer, F. P.; Johnston, E. ; DeWolf, J. T. Mecânica dos Materiais, 5ª Edição. McGraw Hill, 2010\n",
    "\n",
    "Beer, F. P.; Johnston, E. ; DeWolf, J. T. Resistência dos Materiais, 4ª Edição. McGraw Hill, 2006.\n",
    "\n",
    "Hibbeler, R. C. Resistência dos Materiais, 7ª Edição. Pearson Education do Brasil, 2010.\n",
    "\n",
    "Gere, J. Mecânica dos Materiais. 5ª Edição. CENGAGE Learning, 2009.\n",
    "\n",
    "Timoshenko, S. P. Mecânica dos Sólidos. Vol. 2. 3ª Edição. Livros Técnicos e Científicos, 1994.\n",
    "\n",
    "Shames, I. H. Introdução à Mecânica dos Sólidos. Prentice-Hall do Brasil, 1983.\n",
    "\n",
    "Instituto Nacional de Metrologia. Normalização e Qualidade Industrial. Regulamentação metrológica e quadro geral de unidades, 1983.\n",
    "\n",
    "Instituto Nacional de Metrologia. Normalização e Qualidade Industrial. Sistema Internacional de Unidades, 1984."
   ]
  },
  {
   "cell_type": "markdown",
   "metadata": {},
   "source": [
    "# Definições Gerais"
   ]
  },
  {
   "cell_type": "markdown",
   "metadata": {},
   "source": [
    "## Unidades Simbólicas"
   ]
  },
  {
   "cell_type": "code",
   "execution_count": 3,
   "metadata": {},
   "outputs": [],
   "source": [
    "# Sistema MKS\n",
    "m,kg,s = sp.symbols(\"m,kg,s\")\n",
    "N = kg*m/(s**2) # Unidade de força\n",
    "Pa = N/(m**2) # Unidade de pressão\n",
    "# Variações\n",
    "kN = 1000*N\n",
    "mm = m/1000\n",
    "cm = m/100"
   ]
  },
  {
   "cell_type": "markdown",
   "metadata": {},
   "source": [
    "## Equações Gerais"
   ]
  },
  {
   "cell_type": "code",
   "execution_count": 7,
   "metadata": {},
   "outputs": [
    {
     "data": {
      "text/latex": [
       "\\begin{equation*}E = \\epsilon \\sigma\\end{equation*}"
      ],
      "text/plain": [
       "E = ε⋅σ"
      ]
     },
     "metadata": {},
     "output_type": "display_data"
    },
    {
     "data": {
      "text/latex": [
       "\\begin{equation*}G = \\gamma \\tau\\end{equation*}"
      ],
      "text/plain": [
       "G = γ⋅τ"
      ]
     },
     "metadata": {},
     "output_type": "display_data"
    }
   ],
   "source": [
    "# Lei de Hooke para tensões normais\n",
    "E,sigma,epsilon = sp.symbols(\"E,sigma,epsilon\")\n",
    "hooke_s = sp.Eq(E, sigma*epsilon)\n",
    "display(hooke_s)\n",
    "# Lei de Hooke para tensões cisalhantes\n",
    "G,tau,gamma = sp.symbols(\"G,tau,gamma\")\n",
    "hooke_t = sp.Eq(G, tau*gamma)\n",
    "display(hooke_t)"
   ]
  },
  {
   "cell_type": "markdown",
   "metadata": {},
   "source": [
    "# Parte I"
   ]
  },
  {
   "cell_type": "markdown",
   "metadata": {},
   "source": [
    "## Análise de Tensões"
   ]
  },
  {
   "cell_type": "markdown",
   "metadata": {},
   "source": [
    "Teoria"
   ]
  },
  {
   "cell_type": "markdown",
   "metadata": {},
   "source": [
    "### Exercícios\n",
    "\n",
    "1. Qual a necessidade de fazer análise de tensões nos elementos estruturais?\n",
    "\n",
    "R. A análise de tensões viabiliza o correto dimensionamento dos elementos estruturais, evitando disperdício de material sem, entretanto, comprometer a segurança e as condições de uso da edificação, mantendo não só a integridade, mas garantindo que deformações não causem desconforto para os usuários.\n",
    "\n",
    "2. O que significa as tensões principais? Por que precisamos calcular as tensões principais máxima e mínima? Dê um exemplo de um caso prático em que o cálculo das tensões máxima e mínima é importante;\n",
    "\n",
    "R. O cálculo das tensões permite a escolha correta dos elementos estruturais de forma que essas tensões não excedam a faixa de trabalho dos materiais, evitando não só a ruptura, como também a deformação plástica. Ao se calcular, por exemplo, a estrutura de um vaso de pressão para utilização industrial, é necessário garantir que o material resista não apenas às condições de trabalho, mas também às condições anormais impostas por falhas temporárias previstas ou manutenções eventuais. Em uma estrutura civil, o concreto armado, por exemplo, utiliza a combinação de dois materiais distintos, a saber: aço e concreto. Esses materiais apresentam respostas distintas à tração e compressão, bem como valores distintos entre si. O conhecimento das condições de tensões máxima e mínima permite prever e dimensionar corretamente de forma a evitar falhas como, por exemplo, fissuras no concreto.\n",
    "\n",
    "3. Definir o que são planos principais. Nos planos principais atuam tensões de cisalhamento?\n",
    "\n",
    "R. Os planos principais são as coordenadas locais de um ponto nas direções das tensões normais máxima e mínima, sendo essas sempre perpendiculares entre si. Nessas direções, as tensões de cisalhamento são nulas.\n",
    "\n",
    "4. O que é tensão de cisalhamento máxima?\n",
    "\n",
    "R. É a máxima tensão de cisalhamento que atua em um determinado ponto do material, em um par de direções perpendiculares definido que pode ser calculado algebricamente a partir de valores previamente conhecidos que atuam em outra direção.\n",
    "\n",
    "5. Qual o método que está apresentado no vídeo para fazer a análise de tensão?\n",
    "\n",
    "R. Método gráfico, conhecido como Círculo de Mohr"
   ]
  },
  {
   "cell_type": "markdown",
   "metadata": {},
   "source": [
    "## Critérios de Resistência"
   ]
  },
  {
   "cell_type": "markdown",
   "metadata": {},
   "source": [
    "## Vasos de Pressão"
   ]
  },
  {
   "cell_type": "markdown",
   "metadata": {},
   "source": [
    "## Análise de Deformação"
   ]
  },
  {
   "cell_type": "markdown",
   "metadata": {},
   "source": [
    "# Parte II"
   ]
  },
  {
   "cell_type": "markdown",
   "metadata": {},
   "source": [
    "## Deformação na Flexão"
   ]
  },
  {
   "cell_type": "markdown",
   "metadata": {},
   "source": [
    "## Flambagem de Colunas"
   ]
  },
  {
   "cell_type": "markdown",
   "metadata": {},
   "source": [
    "# Parte III"
   ]
  },
  {
   "cell_type": "markdown",
   "metadata": {},
   "source": [
    "## Energia de Deformação"
   ]
  },
  {
   "cell_type": "markdown",
   "metadata": {},
   "source": [
    "## Princípio dos Trabalhos Virtuais"
   ]
  }
 ],
 "metadata": {
  "kernelspec": {
   "display_name": "Python 3",
   "language": "python",
   "name": "python3"
  },
  "language_info": {
   "codemirror_mode": {
    "name": "ipython",
    "version": 3
   },
   "file_extension": ".py",
   "mimetype": "text/x-python",
   "name": "python",
   "nbconvert_exporter": "python",
   "pygments_lexer": "ipython3",
   "version": "3.8.2"
  }
 },
 "nbformat": 4,
 "nbformat_minor": 4
}
