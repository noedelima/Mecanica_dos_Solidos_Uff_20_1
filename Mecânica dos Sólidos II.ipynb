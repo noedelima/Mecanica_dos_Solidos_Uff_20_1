{
 "cells": [
  {
   "cell_type": "markdown",
   "metadata": {},
   "source": [
    "# Mecânica dos Sólidos II\n",
    "\n",
    "Universidade Federal Fluminense\n",
    "\n",
    "Disciplina ministrada pela Prof. Eliane Maria Lopes Carvalho\n",
    "\n",
    "<elianemaria@id.uff.br>\n",
    "\n",
    "Aluno Noé de Lima Bezerra\n",
    "\n",
    "<noe_lima@id.uff.br>\n",
    "\n",
    "Este caderno visa manter um resumo do conteúdo ministrado na disciplina, dada em EAD, através da plataforma Google Classroom.\n",
    "\n",
    "Primeiro semestre de 2020\n",
    "\n",
    "\\vfill\n",
    "\n",
    "A célula a seguir configura o Jupyter-Notebook para exibir as equações matemáticas no formato do ambiente $\\LaTeX$ e importa as bibliotecas necessárias."
   ]
  },
  {
   "cell_type": "code",
   "execution_count": 1,
   "metadata": {
    "tags": []
   },
   "outputs": [
    {
     "name": "stdout",
     "output_type": "stream",
     "text": [
      "Linux DESKTOP-CR7O8A2 4.19.104-microsoft-standard #1 SMP Wed Feb 19 06:37:35 UTC 2020 x86_64 x86_64 x86_64 GNU/Linux\n"
     ]
    }
   ],
   "source": [
    "import numpy as np\n",
    "import sympy as sp\n",
    "import matplotlib.pyplot as plt\n",
    "sp.init_printing(use_latex='mathjax',latex_mode='equation*')\n",
    "!uname -a # Comando para ambiente UNIX apenas"
   ]
  },
  {
   "cell_type": "markdown",
   "metadata": {},
   "source": [
    "\\cleardoublepage\n",
    "\n",
    "\\tableofcontents\n",
    "\n",
    "\\cleardoublepage"
   ]
  },
  {
   "cell_type": "markdown",
   "metadata": {},
   "source": [
    "# Introdução"
   ]
  },
  {
   "cell_type": "markdown",
   "metadata": {},
   "source": [
    "## Dados da Disciplina\n",
    "\n",
    "Disciplina: Mecânica dos Sólidos II\n",
    "\n",
    "Código: TEC00253\n",
    "\n",
    "Período: 2020.1\n",
    "\n",
    "Carga horária: 60 horas\n",
    "\n",
    "Número de créditos: 4 horas\n",
    "\n",
    "\n",
    "Horário: Segunda/Quarta das 16:00 às 18:00 h\n",
    "\n",
    "Local: Aulas Síncronas e Assíncronas\n",
    "\n",
    "Ferramentas digitais utilizadas: Google Classroom e Google Meet (aulas síncronas e assíncronas)\n",
    "\n",
    "\n",
    "Professora: Eliane Maria Lopes Carvalho\n",
    "\n",
    "Departamento Engenharia Civil\n",
    "\n",
    "E-mail: <elianemaria@id.uff.br>"
   ]
  },
  {
   "cell_type": "markdown",
   "metadata": {},
   "source": [
    "## Programa da Disciplina\n",
    "\n",
    "1. Análise de Tensões\n",
    "\n",
    "2. Critérios de Resistência\n",
    "\n",
    "3. Vasos de Pressão \n",
    "\n",
    "4. Análise de Deformação\n",
    "\n",
    "5. Deformação na Flexão\n",
    "\n",
    "6. Flambagem de Colunas\n",
    "\n",
    "7. Energia de Deformação\n",
    "\n",
    "8. Princípio dos Trabalhos Virtuais"
   ]
  },
  {
   "cell_type": "markdown",
   "metadata": {},
   "source": [
    "## Critério de Aprovação\n",
    "\n",
    "Três Períodos de Avaliação:\n",
    "\n",
    "* $PA_{1}$ - avaliação referentes ao itens 1 a 4 do Programa da Disciplina;\n",
    "\n",
    "* $PA_{2}$ - avaliação referentes ao itens 5 e 6 do Programa da Disciplina;\n",
    "\n",
    "* $PA_{3}$ - avaliação referentes ao itens 7 e 8 do Programa da Disciplina.\n",
    "\n",
    "\n",
    "Dois tipos de Atividades de Avaliação (assíncronas) para cada PA:\n",
    "\n",
    "1. Formulários ($FT_{i}$) com questões relativas aos vídeos disponibilizados sobre a teoria dos itens do programa da disciplina;\n",
    "\n",
    "2. Exercícios Propostos ($EP_{i}$) durante o período.\n",
    "\n",
    "Plataforma das atividades: Google Classroom.\n",
    "\n",
    "$$Nota = 0,3 \\times \\frac{FT_{1} +  FT_{2} +........+FT_{n}}{n} + 0,7 \\times \\frac{EP_{1} + EP_{2}+...+EP_{n}}{n}$$\n",
    "\n",
    "Obs: será descartada a menor nota $EP_{i}$\n",
    "\n",
    "\n",
    "Pontos Extras:\n",
    "\n",
    "* Liberalidade e decisão do Professor.\n",
    "\n",
    "* Ponto para os alunos que utilizarem e colaborarem nas DÚVIDAS - AJUDA DA TURMA no Google Classroom - até $0,5$ ponto.\n",
    "\n",
    "* Ponto para os alunos que participarem e colaborarem nas aulas síncronas - até $0,5$ ponto.\n",
    "\n",
    "\n",
    "$$Media = \\frac{PA_{1} + PA_{2} + PA_{3}}{3}$$\n",
    "\n",
    "\n",
    "* Média maior ou igual a $6,0$ - aprovado\n",
    "\n",
    "* Média menor ou igual a $4,0$ - reprovado\n",
    "\n",
    "* Média maior ou igual a $4,0$ e menor do que $6,0$ - Verificação Suplementar (VS)\n",
    "\n",
    "\n",
    "\n",
    "VR - Verificação de Reposição: A falta de entrega de Exercício Proposto ($EP_{i}$) será considerada como a nota descartada. Portanto, o aluno poderá não entregar um exercício por cada Período de Avaliação\n",
    "\n",
    "VS - Verificação Suplementar no final do período letivo (síncrona)"
   ]
  },
  {
   "cell_type": "markdown",
   "metadata": {},
   "source": [
    "## Bibliografia\n",
    "\n",
    "Beer, F. P.; Johnston, E. ; DeWolf, J. T. Mecânica dos Materiais, 5ª Edição. McGraw Hill, 2010\n",
    "\n",
    "Beer, F. P.; Johnston, E. ; DeWolf, J. T. Resistência dos Materiais, 4ª Edição. McGraw Hill, 2006.\n",
    "\n",
    "Hibbeler, R. C. Resistência dos Materiais, 7ª Edição. Pearson Education do Brasil, 2010.\n",
    "\n",
    "Gere, J. Mecânica dos Materiais. 5ª Edição. CENGAGE Learning, 2009.\n",
    "\n",
    "Timoshenko, S. P. Mecânica dos Sólidos. Vol. 2. 3ª Edição. Livros Técnicos e Científicos, 1994.\n",
    "\n",
    "Shames, I. H. Introdução à Mecânica dos Sólidos. Prentice-Hall do Brasil, 1983.\n",
    "\n",
    "Instituto Nacional de Metrologia. Normalização e Qualidade Industrial. Regulamentação metrológica e quadro geral de unidades, 1983.\n",
    "\n",
    "Instituto Nacional de Metrologia. Normalização e Qualidade Industrial. Sistema Internacional de Unidades, 1984."
   ]
  },
  {
   "cell_type": "markdown",
   "metadata": {},
   "source": [
    "# Definições Gerais"
   ]
  },
  {
   "cell_type": "markdown",
   "metadata": {},
   "source": [
    "## Unidades Simbólicas"
   ]
  },
  {
   "cell_type": "code",
   "execution_count": 2,
   "metadata": {},
   "outputs": [],
   "source": [
    "# Sistema MKS\n",
    "m,kg,s = sp.symbols(\"m,kg,s\")\n",
    "N = kg*m/(s**2) # Unidade de força\n",
    "Pa = N/(m**2) # Unidade de pressão\n",
    "# Variações\n",
    "kN = 1000*N\n",
    "mm = m/1000\n",
    "cm = m/100"
   ]
  },
  {
   "cell_type": "markdown",
   "metadata": {},
   "source": [
    "## Equações Gerais"
   ]
  },
  {
   "cell_type": "code",
   "execution_count": 3,
   "metadata": {},
   "outputs": [
    {
     "data": {
      "text/latex": [
       "\\begin{equation*}E = \\epsilon \\sigma\\end{equation*}"
      ],
      "text/plain": [
       "E = ε⋅σ"
      ]
     },
     "metadata": {},
     "output_type": "display_data"
    },
    {
     "data": {
      "text/latex": [
       "\\begin{equation*}G = \\gamma \\tau\\end{equation*}"
      ],
      "text/plain": [
       "G = γ⋅τ"
      ]
     },
     "metadata": {},
     "output_type": "display_data"
    },
    {
     "data": {
      "text/latex": [
       "\\begin{equation*}\\frac{E}{2 G} = \\nu + 1\\end{equation*}"
      ],
      "text/plain": [
       " E         \n",
       "─── = ν + 1\n",
       "2⋅G        "
      ]
     },
     "metadata": {},
     "output_type": "display_data"
    }
   ],
   "source": [
    "# Lei de Hooke para tensões normais\n",
    "E,sigma,epsilon = sp.symbols(\"E,sigma,epsilon\")\n",
    "hooke_s = sp.Eq(E, sigma*epsilon)\n",
    "display(hooke_s)\n",
    "# Lei de Hooke para tensões cisalhantes\n",
    "G,tau,gamma = sp.symbols(\"G,tau,gamma\")\n",
    "hooke_t = sp.Eq(G, tau*gamma)\n",
    "display(hooke_t)\n",
    "# Constante de Poisson\n",
    "nu = sp.symbols(\"nu\")\n",
    "poisson = sp.Eq(E/(2*G), 1+nu)\n",
    "display(poisson)"
   ]
  },
  {
   "cell_type": "markdown",
   "metadata": {},
   "source": [
    "# Parte I"
   ]
  },
  {
   "cell_type": "markdown",
   "metadata": {},
   "source": [
    "## Análise de Tensões"
   ]
  },
  {
   "cell_type": "markdown",
   "metadata": {},
   "source": [
    "O estado triaxial de tensão está definido quando as tensões em torno do ponto esstão perfeitamente determinadas para qualquer orientação do elemento de superfície a que elas se refiram.\n",
    "\n",
    "Assim, conhecendo as tensões em um dado sistema de coordenadas, o sistema pode ser resolvido para outro sistema de coordenadas.\n",
    "\n",
    "### Estado Plano de Tensão\n",
    "\n",
    "O EPT é definido como um elemento que contém nas suas margens, planos que não estão sujeitos a tensões (normais ou cisalhantes). Assim, supondo o plano $z$ livre de tensões, temos:\n",
    "\n",
    "\\begin{equation*}\n",
    "    \\sigma_{z} = \\tau_{zx} = \\tau_{zy} = 0\n",
    "\\end{equation*}\n",
    "\n",
    "Assim, conhecendo as tensões relativas aos eixos orientados $x$ e $y$, vamos considerar o novo plano $x'y'$, obtidos pela rotação do plano $xy$ original em torno do eixo $z$ em um ângulo $\\theta$.\n",
    "\n",
    "Utilizando um prisma de faces perpendiculares aos eixos $x$, $y$ e $x'$, utilizando as condições de equilíbrio, temos:\n",
    "\n",
    "\\begin{equation*}\n",
    "    \\sum{F_{x'}} = 0 \\therefore\n",
    "\\end{equation*}\n",
    "\n",
    "\\begin{equation*}\n",
    "    \\sigma_{x'}\\Delta A - \\sigma_{x}\\Delta A\\cos{\\theta}\\cos{\\theta}\n",
    "    - \\tau_{xy}\\Delta A\\cos{\\theta}\\sin{\\theta}\n",
    "    - \\sigma_{y}\\Delta A\\sin{\\theta}\\sin{\\theta}\n",
    "    - \\tau_{xy}\\Delta A\\sin{\\theta}\\cos{\\theta} = 0\n",
    "\\end{equation*}\n",
    "\n",
    "\\begin{equation*}\n",
    "    \\sum{F_{y'}} = 0 \\therefore\n",
    "\\end{equation*}\n",
    "\n",
    "\\begin{equation*}\n",
    "    \\tau_{x'y'}\\Delta A + \\sigma_{x}\\Delta A\\cos{\\theta}\\sin{\\theta}\n",
    "    - \\tau_{xy}\\Delta A\\cos{\\theta}\\cos{\\theta}\n",
    "    - \\sigma_{y}\\Delta A\\sin{\\theta}\\cos{\\theta}\n",
    "    + \\tau_{xy}\\Delta A\\sin{\\theta}\\sin{\\theta} = 0\n",
    "\\end{equation*}\n",
    "\n",
    "Rearranjando, temos:\n",
    "\n",
    "\\begin{equation*}\n",
    "    \\begin{matrix}\n",
    "        \\sigma_{x'} & = & \\sigma_{x}\\cos^{2}{\\theta} + \\sigma_{y}\\sin^{2}{\\theta} & + & 2\\tau_{xy}\\sin{\\theta}\\cos{\\theta} \\\\\n",
    "        \\tau_{x'y'} & = & -\\left(\\sigma_{x}-\\sigma_{y}\\right)\\sin{\\theta}\\cos{\\theta} & + & \\tau_{xy}\\left(\\cos^{2}{\\theta}-\\sin^{2}{\\theta}\\right)\n",
    "    \\end{matrix}\n",
    "\\end{equation*}\n",
    "\n",
    "Que podem ser reescritas como:\n",
    "\n",
    "\\begin{equation}\n",
    "    \\sigma_{x'} = \\frac{\\sigma_{x}+\\sigma_{y}}{2} + \\frac{\\sigma_{x}-\\sigma_{y}}{2}\\cos{2\\theta} + \\tau_{xy}\\sin{2\\theta}\n",
    "\\end{equation}\n",
    "\n",
    "Bem como,\n",
    "\n",
    "\\begin{equation}\n",
    "    \\sigma_{y'} = \\frac{\\sigma_{x}+\\sigma_{y}}{2} - \\frac{\\sigma_{x}-\\sigma_{y}}{2}\\cos{2\\theta} - \\tau_{xy}\\sin{2\\theta}\n",
    "\\end{equation}\n",
    "\n",
    "E\n",
    "\n",
    "\\begin{equation}\n",
    "    \\tau_{x'y'} = -\\frac{\\sigma_{x}-\\sigma_{y}}{2}\\sin{2\\theta} + \\tau_{xy}\\cos{2\\theta}\n",
    "\\end{equation}\n",
    "\n",
    "Podemos observar que, a partir da soma das duas primeiras dessas Equações, obtemos:\n",
    "\n",
    "\\begin{equation}\n",
    "    \\sigma_{x'}  + \\sigma_{y'} = \\sigma_{x} + \\sigma_{y} = constante\n",
    "\\end{equation}\n",
    "\n",
    "Da mesma forma, combinando a primeira e a terceira Equações, podemos obter a seguinte Equação de um círculo, conhecido como Círculo de Mohr:\n",
    "\n",
    "### Círculo de Mohr\n",
    "\n",
    "\\begin{equation}\n",
    "    \\left(\\sigma_{x'}-\\sigma_{med}\\right)^{2} + \\tau_{x'y'}^{2} = R^{2}\n",
    "\\end{equation}\n",
    "\n",
    "Onde,\n",
    "\n",
    "* $\\sigma_{med} = \\frac{\\sigma_{x}+\\sigma_{y}}{2}$\n",
    "\n",
    "* $R = \\sqrt{\\left(\\frac{\\sigma_{x}-\\sigma_{y}}{2}\\right)^{2} + \\tau_{xy}^{2}}$\n",
    "\n",
    "Temos também que:\n",
    "\n",
    "\\begin{equation}\n",
    "    \\tan{2\\theta_{p}} = \\frac{2\\tau_{xy}}{\\sigma_{x}-\\sigma_{y}}\n",
    "\\end{equation}\n",
    "\n",
    "### Método Gráfico\n",
    "\n",
    "Para obter o Círculo de Mohr graficamente, a partir das tensões conhecidas $\\sigma_{x}$, $\\sigma_{y}$ e $\\tau_{xy}$, devemos plotar, em um plano cartesiano de eixos $x'y'$, uma reta que parte do ponto $X\\left(\\sigma_{x},-\\tau_{xy}\\right)$ para o ponto $Y\\left(\\sigma_{y},\\tau_{xy}\\right)$. Essa reta vai cruzar o eixo $x'$ no ponto $C=\\sigma_{med}$, e, traçando uma circunferência a partir de $C$, passando pelos pontos $X$ e $Y$, obtemos o Círculo de Mohr. O ângulo entre a reta traçada e o eixo $x'$ corresponde a $2\\theta$, ou seja, o dobro do ângulo físico entre o plano $xy$ e o plano onde ocorrem as tensões normais máxima e mínima."
   ]
  },
  {
   "cell_type": "code",
   "execution_count": 4,
   "metadata": {},
   "outputs": [],
   "source": [
    "sigma_x,sigma_y,tau_xy = sp.symbols(\"sigma_x,sigma_y,tau_xy\")\n",
    "sigma_med = (sigma_x+sigma_y)/2\n",
    "R = sp.sqrt((((sigma_x-sigma_y)/2)**2)+tau_xy**2)"
   ]
  },
  {
   "cell_type": "markdown",
   "metadata": {},
   "source": [
    "### Programa Para Resolver o Círculo de Mohr"
   ]
  },
  {
   "cell_type": "code",
   "execution_count": 5,
   "metadata": {},
   "outputs": [],
   "source": [
    "def mohr(s_x,s_y,t_xy):\n",
    "    if t_xy == 0:\n",
    "        t_xy = 1e-10  # Evitar divisão por zero!\n",
    "    z = np.linspace(0,360,360)\n",
    "    r = np.sqrt((((s_x-s_y)/2)**2)+t_xy**2)\n",
    "    s_med = ((s_x+s_y)/2)\n",
    "    tg2tc = -(s_x-s_y)/(2*t_xy)\n",
    "    tg2tp = -1/(tg2tc)\n",
    "    tc = np.degrees(np.arctan(tg2tc)/2)\n",
    "    tp = np.degrees(np.arctan(tg2tp)/2)\n",
    "    x = s_med + r*np.cos(np.radians(z))\n",
    "    y = r*np.sin(np.radians(z))\n",
    "    a = ([s_x,s_x,s_y,s_y,s_x])\n",
    "    b = ([0,t_xy,-t_xy,0,0])\n",
    "    # Plot\n",
    "    text = '\\n'.join((\n",
    "        r'$\\sigma_{min} = %.1f~MPa$' % (s_med-r,),\n",
    "        r'$\\sigma_{max} = %.1f~MPa$' % (s_med+r,),\n",
    "        r'$\\tau_{max} = %.1f~MPa$' % (r,),\n",
    "        r'$\\theta_{p} = %.0f^{o}$' % (tp,),\n",
    "        r'$\\theta_{c} = %.0f^{o}$' % (tc,)\n",
    "    ))\n",
    "    props = dict(boxstyle='round', facecolor='wheat', alpha=0.5)\n",
    "    plt.plot(a,b,x,y)\n",
    "    plt.xlabel(r\"$\\sigma$\", size=18)\n",
    "    plt.ylabel(r\"$\\tau$\", size=18)\n",
    "    plt.title(\"Círculo de Mohr\")\n",
    "    plt.text(s_med-1.6*r,r,text, fontsize=12, verticalalignment='top', bbox=props)\n",
    "    plt.axis(\"equal\")\n",
    "    plt.show()"
   ]
  },
  {
   "cell_type": "code",
   "execution_count": 6,
   "metadata": {
    "tags": []
   },
   "outputs": [
    {
     "data": {
      "image/png": "[encoded data removed]",
      "text/plain": [
       "<Figure size 432x288 with 1 Axes>"
      ]
     },
     "metadata": {
      "needs_background": "light"
     },
     "output_type": "display_data"
    }
   ],
   "source": [
    "mohr(0,1,1)"
   ]
  },
  {
   "cell_type": "markdown",
   "metadata": {},
   "source": [
    "### Exercícios\n",
    "\n",
    "1. Qual a necessidade de fazer análise de tensões nos elementos estruturais?\n",
    "\n",
    "R. A análise de tensões viabiliza o correto dimensionamento dos elementos estruturais, evitando disperdício de material sem, entretanto, comprometer a segurança e as condições de uso da edificação, mantendo não só a integridade, mas garantindo que deformações não causem desconforto para os usuários.\n",
    "\n",
    "2. O que significa as tensões principais? Por que precisamos calcular as tensões principais máxima e mínima? Dê um exemplo de um caso prático em que o cálculo das tensões máxima e mínima é importante;\n",
    "\n",
    "R. O cálculo das tensões permite a escolha correta dos elementos estruturais de forma que essas tensões não excedam a faixa de trabalho dos materiais, evitando não só a ruptura, como também a deformação plástica. Ao se calcular, por exemplo, a estrutura de um vaso de pressão para utilização industrial, é necessário garantir que o material resista não apenas às condições de trabalho, mas também às condições anormais impostas por falhas temporárias previstas ou manutenções eventuais. Em uma estrutura civil, o concreto armado, por exemplo, utiliza a combinação de dois materiais distintos, a saber: aço e concreto. Esses materiais apresentam respostas distintas à tração e compressão, bem como valores distintos entre si. O conhecimento das condições de tensões máxima e mínima permite prever e dimensionar corretamente de forma a evitar falhas como, por exemplo, fissuras no concreto.\n",
    "\n",
    "3. Definir o que são planos principais. Nos planos principais atuam tensões de cisalhamento?\n",
    "\n",
    "R. Os planos principais são as coordenadas locais de um ponto nas direções das tensões normais máxima e mínima, sendo essas sempre perpendiculares entre si. Nessas direções, as tensões de cisalhamento são nulas.\n",
    "\n",
    "4. O que é tensão de cisalhamento máxima?\n",
    "\n",
    "R. É a máxima tensão de cisalhamento que atua em um determinado ponto do material, em um par de direções perpendiculares definido que pode ser calculado algebricamente a partir de valores previamente conhecidos que atuam em outra direção.\n",
    "\n",
    "5. Qual o método que está apresentado no vídeo para fazer a análise de tensão?\n",
    "\n",
    "R. Método gráfico, conhecido como Círculo de Mohr"
   ]
  },
  {
   "cell_type": "markdown",
   "metadata": {},
   "source": [
    "## Critérios de Resistência"
   ]
  },
  {
   "cell_type": "markdown",
   "metadata": {},
   "source": [
    "## Vasos de Pressão"
   ]
  },
  {
   "cell_type": "markdown",
   "metadata": {},
   "source": [
    "## Análise de Deformação"
   ]
  },
  {
   "cell_type": "markdown",
   "metadata": {},
   "source": [
    "# Parte II"
   ]
  },
  {
   "cell_type": "markdown",
   "metadata": {},
   "source": [
    "## Deformação na Flexão"
   ]
  },
  {
   "cell_type": "markdown",
   "metadata": {},
   "source": [
    "## Flambagem de Colunas"
   ]
  },
  {
   "cell_type": "markdown",
   "metadata": {},
   "source": [
    "# Parte III"
   ]
  },
  {
   "cell_type": "markdown",
   "metadata": {},
   "source": [
    "## Energia de Deformação"
   ]
  },
  {
   "cell_type": "markdown",
   "metadata": {},
   "source": [
    "## Princípio dos Trabalhos Virtuais"
   ]
  }
 ],
 "metadata": {
  "kernelspec": {
   "display_name": "Python 3",
   "language": "python",
   "name": "python3"
  },
  "language_info": {
   "codemirror_mode": {
    "name": "ipython",
    "version": 3
   },
   "file_extension": ".py",
   "mimetype": "text/x-python",
   "name": "python",
   "nbconvert_exporter": "python",
   "pygments_lexer": "ipython3",
   "version": "3.8.2"
  }
 },
 "nbformat": 4,
 "nbformat_minor": 4
}
