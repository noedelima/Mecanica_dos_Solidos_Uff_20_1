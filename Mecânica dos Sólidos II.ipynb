{
 "cells": [
  {
   "cell_type": "markdown",
   "metadata": {},
   "source": [
    "# Mecânica dos Sólidos II\n",
    "\n",
    "Universidade Federal Fluminense\n",
    "\n",
    "Disciplina ministrada pela Prof. Eliane Maria Lopes Carvalho\n",
    "\n",
    "<elianemaria@id.uff.br>\n",
    "\n",
    "Aluno Noé de Lima Bezerra\n",
    "\n",
    "<noe_lima@id.uff.br>\n",
    "\n",
    "Este caderno visa manter um resumo do conteúdo ministrado na disciplina, dada em EAD, através da plataforma Google Classroom.\n",
    "\n",
    "Primeiro semestre de 2020\n",
    "\n",
    "\\vfill\n",
    "\n",
    "A célula a seguir configura o Jupyter-Notebook para exibir as equações matemáticas no formato do ambiente $\\LaTeX$ e importa as bibliotecas necessárias."
   ]
  },
  {
   "cell_type": "code",
   "execution_count": 1,
   "metadata": {
    "tags": []
   },
   "outputs": [
    {
     "output_type": "stream",
     "name": "stdout",
     "text": "Linux Noah-PC 5.4.50-amd64-desktop #74 SMP Mon Aug 24 20:15:37 CST 2020 x86_64 GNU/Linux\n"
    }
   ],
   "source": [
    "import numpy as np\n",
    "import sympy as sp\n",
    "import matplotlib.pyplot as plt\n",
    "sp.init_printing(use_latex='mathjax',latex_mode='equation*')\n",
    "!uname -a # Comando para ambiente UNIX apenas"
   ]
  },
  {
   "cell_type": "markdown",
   "metadata": {},
   "source": [
    "\\cleardoublepage\n",
    "\n",
    "\\tableofcontents\n",
    "\n",
    "\\cleardoublepage"
   ]
  },
  {
   "cell_type": "markdown",
   "metadata": {},
   "source": [
    "# Introdução"
   ]
  },
  {
   "cell_type": "markdown",
   "metadata": {},
   "source": [
    "## Dados da Disciplina\n",
    "\n",
    "Disciplina: Mecânica dos Sólidos II\n",
    "\n",
    "Código: TEC00253\n",
    "\n",
    "Período: 2020.1\n",
    "\n",
    "Carga horária: 60 horas\n",
    "\n",
    "Número de créditos: 4 horas\n",
    "\n",
    "\n",
    "Horário: Segunda/Quarta das 16:00 às 18:00 h\n",
    "\n",
    "Local: Aulas Síncronas e Assíncronas\n",
    "\n",
    "Ferramentas digitais utilizadas: Google Classroom e Google Meet (aulas síncronas e assíncronas)\n",
    "\n",
    "\n",
    "Professora: Eliane Maria Lopes Carvalho\n",
    "\n",
    "Departamento Engenharia Civil\n",
    "\n",
    "E-mail: <elianemaria@id.uff.br>"
   ]
  },
  {
   "cell_type": "markdown",
   "metadata": {},
   "source": [
    "## Programa da Disciplina\n",
    "\n",
    "1. Análise de Tensões\n",
    "\n",
    "2. Critérios de Resistência\n",
    "\n",
    "3. Vasos de Pressão \n",
    "\n",
    "4. Análise de Deformação\n",
    "\n",
    "5. Deformação na Flexão\n",
    "\n",
    "6. Flambagem de Colunas\n",
    "\n",
    "7. Energia de Deformação\n",
    "\n",
    "8. Princípio dos Trabalhos Virtuais"
   ]
  },
  {
   "cell_type": "markdown",
   "metadata": {},
   "source": [
    "## Critério de Aprovação\n",
    "\n",
    "Três Períodos de Avaliação:\n",
    "\n",
    "* $PA_{1}$ - avaliação referentes ao itens 1 a 4 do Programa da Disciplina;\n",
    "\n",
    "* $PA_{2}$ - avaliação referentes ao itens 5 e 6 do Programa da Disciplina;\n",
    "\n",
    "* $PA_{3}$ - avaliação referentes ao itens 7 e 8 do Programa da Disciplina.\n",
    "\n",
    "\n",
    "Dois tipos de Atividades de Avaliação (assíncronas) para cada PA:\n",
    "\n",
    "1. Formulários ($FT_{i}$) com questões relativas aos vídeos disponibilizados sobre a teoria dos itens do programa da disciplina;\n",
    "\n",
    "2. Exercícios Propostos ($EP_{i}$) durante o período.\n",
    "\n",
    "Plataforma das atividades: Google Classroom.\n",
    "\n",
    "$$Nota = 0,3 \\times \\frac{FT_{1} +  FT_{2} +........+FT_{n}}{n} + 0,7 \\times \\frac{EP_{1} + EP_{2}+...+EP_{n}}{n}$$\n",
    "\n",
    "Obs: será descartada a menor nota $EP_{i}$\n",
    "\n",
    "\n",
    "Pontos Extras:\n",
    "\n",
    "* Liberalidade e decisão do Professor.\n",
    "\n",
    "* Ponto para os alunos que utilizarem e colaborarem nas DÚVIDAS - AJUDA DA TURMA no Google Classroom - até $0,5$ ponto.\n",
    "\n",
    "* Ponto para os alunos que participarem e colaborarem nas aulas síncronas - até $0,5$ ponto.\n",
    "\n",
    "\n",
    "$$Media = \\frac{PA_{1} + PA_{2} + PA_{3}}{3}$$\n",
    "\n",
    "\n",
    "* Média maior ou igual a $6,0$ - aprovado\n",
    "\n",
    "* Média menor ou igual a $4,0$ - reprovado\n",
    "\n",
    "* Média maior ou igual a $4,0$ e menor do que $6,0$ - Verificação Suplementar (VS)\n",
    "\n",
    "\n",
    "\n",
    "VR - Verificação de Reposição: A falta de entrega de Exercício Proposto ($EP_{i}$) será considerada como a nota descartada. Portanto, o aluno poderá não entregar um exercício por cada Período de Avaliação\n",
    "\n",
    "VS - Verificação Suplementar no final do período letivo (síncrona)"
   ]
  },
  {
   "cell_type": "markdown",
   "metadata": {},
   "source": [
    "## Bibliografia\n",
    "\n",
    "Beer, F. P.; Johnston, E. ; DeWolf, J. T. Mecânica dos Materiais, 5ª Edição. McGraw Hill, 2010\n",
    "\n",
    "Beer, F. P.; Johnston, E. ; DeWolf, J. T. Resistência dos Materiais, 4ª Edição. McGraw Hill, 2006.\n",
    "\n",
    "Hibbeler, R. C. Resistência dos Materiais, 7ª Edição. Pearson Education do Brasil, 2010.\n",
    "\n",
    "Gere, J. Mecânica dos Materiais. 5ª Edição. CENGAGE Learning, 2009.\n",
    "\n",
    "Timoshenko, S. P. Mecânica dos Sólidos. Vol. 2. 3ª Edição. Livros Técnicos e Científicos, 1994.\n",
    "\n",
    "Shames, I. H. Introdução à Mecânica dos Sólidos. Prentice-Hall do Brasil, 1983.\n",
    "\n",
    "Instituto Nacional de Metrologia. Normalização e Qualidade Industrial. Regulamentação metrológica e quadro geral de unidades, 1983.\n",
    "\n",
    "Instituto Nacional de Metrologia. Normalização e Qualidade Industrial. Sistema Internacional de Unidades, 1984."
   ]
  },
  {
   "cell_type": "markdown",
   "metadata": {},
   "source": [
    "# Definições Gerais"
   ]
  },
  {
   "cell_type": "markdown",
   "metadata": {},
   "source": [
    "## Unidades Simbólicas"
   ]
  },
  {
   "cell_type": "code",
   "execution_count": 2,
   "metadata": {},
   "outputs": [],
   "source": [
    "# Sistema MKS\n",
    "m,kg,s = sp.symbols(\"m,kg,s\")\n",
    "N = kg*m/(s**2) # Unidade de força\n",
    "Pa = N/(m**2) # Unidade de pressão\n",
    "# Variações\n",
    "kN = 1000*N\n",
    "mm = m/1000\n",
    "cm = m/100"
   ]
  },
  {
   "cell_type": "markdown",
   "metadata": {},
   "source": [
    "## Equações Gerais"
   ]
  },
  {
   "cell_type": "code",
   "execution_count": 3,
   "metadata": {},
   "outputs": [
    {
     "output_type": "display_data",
     "data": {
      "text/plain": "E = ε⋅σ",
      "text/latex": "\\begin{equation*}E = \\epsilon \\sigma\\end{equation*}"
     },
     "metadata": {}
    },
    {
     "output_type": "display_data",
     "data": {
      "text/plain": "G = γ⋅τ",
      "text/latex": "\\begin{equation*}G = \\gamma \\tau\\end{equation*}"
     },
     "metadata": {}
    },
    {
     "output_type": "display_data",
     "data": {
      "text/plain": " E         \n─── = ν + 1\n2⋅G        ",
      "text/latex": "\\begin{equation*}\\frac{E}{2 G} = \\nu + 1\\end{equation*}"
     },
     "metadata": {}
    }
   ],
   "source": [
    "# Lei de Hooke para tensões normais\n",
    "E,sigma,epsilon = sp.symbols(\"E,sigma,epsilon\")\n",
    "hooke_s = sp.Eq(E, sigma*epsilon)\n",
    "display(hooke_s)\n",
    "# Lei de Hooke para tensões cisalhantes\n",
    "G,tau,gamma = sp.symbols(\"G,tau,gamma\")\n",
    "hooke_t = sp.Eq(G, tau*gamma)\n",
    "display(hooke_t)\n",
    "# Constante de Poisson\n",
    "nu = sp.symbols(\"nu\")\n",
    "poisson = sp.Eq(E/(2*G), 1+nu)\n",
    "display(poisson)"
   ]
  },
  {
   "cell_type": "markdown",
   "metadata": {},
   "source": [
    "# Parte I"
   ]
  },
  {
   "cell_type": "markdown",
   "metadata": {},
   "source": [
    "## Análise de Tensões"
   ]
  },
  {
   "cell_type": "markdown",
   "metadata": {},
   "source": [
    "O estado triaxial de tensão está definido quando as tensões em torno do ponto esstão perfeitamente determinadas para qualquer orientação do elemento de superfície a que elas se refiram.\n",
    "\n",
    "Assim, conhecendo as tensões em um dado sistema de coordenadas, o sistema pode ser resolvido para outro sistema de coordenadas.\n",
    "\n",
    "### Estado Plano de Tensão\n",
    "\n",
    "O EPT é definido como um elemento que contém nas suas margens, planos que não estão sujeitos a tensões (normais ou cisalhantes). Assim, supondo o plano $z$ livre de tensões, temos:\n",
    "\n",
    "\\begin{equation*}\n",
    "    \\sigma_{z} = \\tau_{zx} = \\tau_{zy} = 0\n",
    "\\end{equation*}\n",
    "\n",
    "Assim, conhecendo as tensões relativas aos eixos orientados $x$ e $y$, vamos considerar o novo plano $x'y'$, obtidos pela rotação do plano $xy$ original em torno do eixo $z$ em um ângulo $\\theta$.\n",
    "\n",
    "Utilizando um prisma de faces perpendiculares aos eixos $x$, $y$ e $x'$, utilizando as condições de equilíbrio, temos:\n",
    "\n",
    "\\begin{equation*}\n",
    "    \\sum{F_{x'}} = 0 \\therefore\n",
    "\\end{equation*}\n",
    "\n",
    "\\begin{equation*}\n",
    "    \\sigma_{x'}\\Delta A - \\sigma_{x}\\Delta A\\cos{\\theta}\\cos{\\theta}\n",
    "    - \\tau_{xy}\\Delta A\\cos{\\theta}\\sin{\\theta}\n",
    "    - \\sigma_{y}\\Delta A\\sin{\\theta}\\sin{\\theta}\n",
    "    - \\tau_{xy}\\Delta A\\sin{\\theta}\\cos{\\theta} = 0\n",
    "\\end{equation*}\n",
    "\n",
    "\\begin{equation*}\n",
    "    \\sum{F_{y'}} = 0 \\therefore\n",
    "\\end{equation*}\n",
    "\n",
    "\\begin{equation*}\n",
    "    \\tau_{x'y'}\\Delta A + \\sigma_{x}\\Delta A\\cos{\\theta}\\sin{\\theta}\n",
    "    - \\tau_{xy}\\Delta A\\cos{\\theta}\\cos{\\theta}\n",
    "    - \\sigma_{y}\\Delta A\\sin{\\theta}\\cos{\\theta}\n",
    "    + \\tau_{xy}\\Delta A\\sin{\\theta}\\sin{\\theta} = 0\n",
    "\\end{equation*}\n",
    "\n",
    "Rearranjando, temos:\n",
    "\n",
    "\\begin{equation*}\n",
    "    \\begin{matrix}\n",
    "        \\sigma_{x'} & = & \\sigma_{x}\\cos^{2}{\\theta} + \\sigma_{y}\\sin^{2}{\\theta} & + & 2\\tau_{xy}\\sin{\\theta}\\cos{\\theta} \\\\\n",
    "        \\tau_{x'y'} & = & -\\left(\\sigma_{x}-\\sigma_{y}\\right)\\sin{\\theta}\\cos{\\theta} & + & \\tau_{xy}\\left(\\cos^{2}{\\theta}-\\sin^{2}{\\theta}\\right)\n",
    "    \\end{matrix}\n",
    "\\end{equation*}\n",
    "\n",
    "Que podem ser reescritas como:\n",
    "\n",
    "\\begin{equation}\n",
    "    \\sigma_{x'} = \\frac{\\sigma_{x}+\\sigma_{y}}{2} + \\frac{\\sigma_{x}-\\sigma_{y}}{2}\\cos{2\\theta} + \\tau_{xy}\\sin{2\\theta}\n",
    "\\end{equation}\n",
    "\n",
    "Bem como,\n",
    "\n",
    "\\begin{equation}\n",
    "    \\sigma_{y'} = \\frac{\\sigma_{x}+\\sigma_{y}}{2} - \\frac{\\sigma_{x}-\\sigma_{y}}{2}\\cos{2\\theta} - \\tau_{xy}\\sin{2\\theta}\n",
    "\\end{equation}\n",
    "\n",
    "E\n",
    "\n",
    "\\begin{equation}\n",
    "    \\tau_{x'y'} = -\\frac{\\sigma_{x}-\\sigma_{y}}{2}\\sin{2\\theta} + \\tau_{xy}\\cos{2\\theta}\n",
    "\\end{equation}\n",
    "\n",
    "Podemos observar que, a partir da soma das duas primeiras dessas Equações, obtemos:\n",
    "\n",
    "\\begin{equation}\n",
    "    \\sigma_{x'}  + \\sigma_{y'} = \\sigma_{x} + \\sigma_{y} = constante\n",
    "\\end{equation}\n",
    "\n",
    "Da mesma forma, combinando a primeira e a terceira Equações, podemos obter a seguinte Equação de um círculo, conhecido como Círculo de Mohr:\n",
    "\n",
    "### Círculo de Mohr\n",
    "\n",
    "\\begin{equation}\n",
    "    \\left(\\sigma_{x'}-\\sigma_{med}\\right)^{2} + \\tau_{x'y'}^{2} = R^{2}\n",
    "\\end{equation}\n",
    "\n",
    "Onde,\n",
    "\n",
    "* $\\sigma_{med} = \\frac{\\sigma_{x}+\\sigma_{y}}{2}$\n",
    "\n",
    "* $R = \\sqrt{\\left(\\frac{\\sigma_{x}-\\sigma_{y}}{2}\\right)^{2} + \\tau_{xy}^{2}}$\n",
    "\n",
    "Temos também que:\n",
    "\n",
    "\\begin{equation}\n",
    "    \\tan{2\\theta_{p}} = \\frac{2\\tau_{xy}}{\\sigma_{x}-\\sigma_{y}}\n",
    "\\end{equation}\n",
    "\n",
    "### Método Gráfico\n",
    "\n",
    "Para obter o Círculo de Mohr graficamente, a partir das tensões conhecidas $\\sigma_{x}$, $\\sigma_{y}$ e $\\tau_{xy}$, devemos plotar, em um plano cartesiano de eixos $x'y'$, uma reta que parte do ponto $X\\left(\\sigma_{x},-\\tau_{xy}\\right)$ para o ponto $Y\\left(\\sigma_{y},\\tau_{xy}\\right)$. Essa reta vai cruzar o eixo $x'$ no ponto $C=\\sigma_{med}$, e, traçando uma circunferência a partir de $C$, passando pelos pontos $X$ e $Y$, obtemos o Círculo de Mohr. O ângulo entre a reta traçada e o eixo $x'$ corresponde a $2\\theta$, ou seja, o dobro do ângulo físico entre o plano $xy$ e o plano onde ocorrem as tensões normais máxima e mínima."
   ]
  },
  {
   "cell_type": "code",
   "execution_count": 4,
   "metadata": {},
   "outputs": [],
   "source": [
    "sigma_x,sigma_y,tau_xy = sp.symbols(\"sigma_x,sigma_y,tau_xy\")\n",
    "sigma_med = (sigma_x+sigma_y)/2\n",
    "R = sp.sqrt((((sigma_x-sigma_y)/2)**2)+tau_xy**2)"
   ]
  },
  {
   "source": [
    "### Programa Para Resolver o Círculo de Mohr"
   ],
   "cell_type": "markdown",
   "metadata": {}
  },
  {
   "cell_type": "code",
   "execution_count": 5,
   "metadata": {},
   "outputs": [],
   "source": [
    "def mohr(s_x,s_y,t_xy):\n",
    "    z = np.linspace(0,360,360)\n",
    "    r = np.sqrt((((s_x-s_y)/2)**2)+t_xy**2)\n",
    "    s_med = ((s_x+s_y)/2)\n",
    "    tg2tc = -(s_x-s_y)/(2*t_xy)\n",
    "    tg2tp = -1/(tg2tc)\n",
    "    tc = np.degrees(np.arctan(tg2tc)/2)\n",
    "    tp = np.degrees(np.arctan(tg2tp)/2)\n",
    "    x = s_med + r*np.cos(np.radians(z))\n",
    "    y = r*np.sin(np.radians(z))\n",
    "    a = ([s_x,s_x,s_y,s_y,s_x])\n",
    "    b = ([0,t_xy,-t_xy,0,0])\n",
    "    # Plot\n",
    "    text = '\\n'.join((\n",
    "        r'$\\sigma_{min} = %.1f~MPa$' % (s_med-r,),\n",
    "        r'$\\sigma_{max} = %.1f~MPa$' % (s_med+r,),\n",
    "        r'$\\theta_{p} = %.0f^{o}$' % (tp,),\n",
    "        r'$\\theta_{c} = %.0f^{o}$' % (tc,)\n",
    "    ))\n",
    "    props = dict(boxstyle='round', facecolor='wheat', alpha=0.5)\n",
    "    plt.plot(a,b,x,y)\n",
    "    plt.xlabel(r\"$\\sigma$\", size=18)\n",
    "    plt.ylabel(r\"$\\tau$\", size=18)\n",
    "    plt.title(\"Círculo de Mohr\")\n",
    "    plt.text(s_med-1.6*r,r,text, fontsize=12, verticalalignment='top', bbox=props)\n",
    "    plt.axis(\"equal\")\n",
    "    plt.show()"
   ]
  },
  {
   "cell_type": "code",
   "execution_count": 6,
   "metadata": {
    "tags": []
   },
   "outputs": [
    {
     "output_type": "display_data",
     "data": {
      "text/plain": "<Figure size 432x288 with 1 Axes>",
      "image/svg+xml": "<?xml version=\"1.0\" encoding=\"utf-8\" standalone=\"no\"?>\n<!DOCTYPE svg PUBLIC \"-//W3C//DTD SVG 1.1//EN\"\n  \"http://www.w3.org/Graphics/SVG/1.1/DTD/svg11.dtd\">\n<!-- Created with matplotlib (https://matplotlib.org/) -->\n<svg height=\"285.056875pt\" version=\"1.1\" viewBox=\"0 0 401.903437 285.056875\" width=\"401.903437pt\" xmlns=\"http://www.w3.org/2000/svg\" xmlns:xlink=\"http://www.w3.org/1999/xlink\">\n <metadata>\n  <rdf:RDF xmlns:cc=\"http://creativecommons.org/ns#\" xmlns:dc=\"http://purl.org/dc/elements/1.1/\" xmlns:rdf=\"http://www.w3.org/1999/02/22-rdf-syntax-ns#\">\n   <cc:Work>\n    <dc:type rdf:resource=\"http://purl.org/dc/dcmitype/StillImage\"/>\n    <dc:date>2020-09-16T17:11:48.735783</dc:date>\n    <dc:format>image/svg+xml</dc:format>\n    <dc:creator>\n     <cc:Agent>\n      <dc:title>Matplotlib v3.3.1, https://matplotlib.org/</dc:title>\n     </cc:Agent>\n    </dc:creator>\n   </cc:Work>\n  </rdf:RDF>\n </metadata>\n <defs>\n  <style type=\"text/css\">*{stroke-linecap:butt;stroke-linejoin:round;}</style>\n </defs>\n <g id=\"figure_1\">\n  <g id=\"patch_1\">\n   <path d=\"M 0 285.056875 \nL 401.903437 285.056875 \nL 401.903437 0 \nL 0 0 \nz\n\" style=\"fill:none;\"/>\n  </g>\n  <g id=\"axes_1\">\n   <g id=\"patch_2\">\n    <path d=\"M 59.903438 239.758125 \nL 394.703438 239.758125 \nL 394.703438 22.318125 \nL 59.903438 22.318125 \nz\n\" style=\"fill:#ffffff;\"/>\n   </g>\n   <g id=\"matplotlib.axis_1\">\n    <g id=\"xtick_1\">\n     <g id=\"line2d_1\">\n      <defs>\n       <path d=\"M 0 0 \nL 0 3.5 \n\" id=\"maf2c9dbeaf\" style=\"stroke:#000000;stroke-width:0.8;\"/>\n      </defs>\n      <g>\n       <use style=\"stroke:#000000;stroke-width:0.8;\" x=\"94.697379\" xlink:href=\"#maf2c9dbeaf\" y=\"239.758125\"/>\n      </g>\n     </g>\n     <g id=\"text_1\">\n      <!-- −1.0 -->\n      <g transform=\"translate(82.555973 254.356562)scale(0.1 -0.1)\">\n       <defs>\n        <path d=\"M 10.59375 35.5 \nL 73.1875 35.5 \nL 73.1875 27.203125 \nL 10.59375 27.203125 \nz\n\" id=\"DejaVuSans-8722\"/>\n        <path d=\"M 12.40625 8.296875 \nL 28.515625 8.296875 \nL 28.515625 63.921875 \nL 10.984375 60.40625 \nL 10.984375 69.390625 \nL 28.421875 72.90625 \nL 38.28125 72.90625 \nL 38.28125 8.296875 \nL 54.390625 8.296875 \nL 54.390625 0 \nL 12.40625 0 \nz\n\" id=\"DejaVuSans-49\"/>\n        <path d=\"M 10.6875 12.40625 \nL 21 12.40625 \nL 21 0 \nL 10.6875 0 \nz\n\" id=\"DejaVuSans-46\"/>\n        <path d=\"M 31.78125 66.40625 \nQ 24.171875 66.40625 20.328125 58.90625 \nQ 16.5 51.421875 16.5 36.375 \nQ 16.5 21.390625 20.328125 13.890625 \nQ 24.171875 6.390625 31.78125 6.390625 \nQ 39.453125 6.390625 43.28125 13.890625 \nQ 47.125 21.390625 47.125 36.375 \nQ 47.125 51.421875 43.28125 58.90625 \nQ 39.453125 66.40625 31.78125 66.40625 \nz\nM 31.78125 74.21875 \nQ 44.046875 74.21875 50.515625 64.515625 \nQ 56.984375 54.828125 56.984375 36.375 \nQ 56.984375 17.96875 50.515625 8.265625 \nQ 44.046875 -1.421875 31.78125 -1.421875 \nQ 19.53125 -1.421875 13.0625 8.265625 \nQ 6.59375 17.96875 6.59375 36.375 \nQ 6.59375 54.828125 13.0625 64.515625 \nQ 19.53125 74.21875 31.78125 74.21875 \nz\n\" id=\"DejaVuSans-48\"/>\n       </defs>\n       <use xlink:href=\"#DejaVuSans-8722\"/>\n       <use x=\"83.789062\" xlink:href=\"#DejaVuSans-49\"/>\n       <use x=\"147.412109\" xlink:href=\"#DejaVuSans-46\"/>\n       <use x=\"179.199219\" xlink:href=\"#DejaVuSans-48\"/>\n      </g>\n     </g>\n    </g>\n    <g id=\"xtick_2\">\n     <g id=\"line2d_2\">\n      <g>\n       <use style=\"stroke:#000000;stroke-width:0.8;\" x=\"138.898768\" xlink:href=\"#maf2c9dbeaf\" y=\"239.758125\"/>\n      </g>\n     </g>\n     <g id=\"text_2\">\n      <!-- −0.5 -->\n      <g transform=\"translate(126.757362 254.356562)scale(0.1 -0.1)\">\n       <defs>\n        <path d=\"M 10.796875 72.90625 \nL 49.515625 72.90625 \nL 49.515625 64.59375 \nL 19.828125 64.59375 \nL 19.828125 46.734375 \nQ 21.96875 47.46875 24.109375 47.828125 \nQ 26.265625 48.1875 28.421875 48.1875 \nQ 40.625 48.1875 47.75 41.5 \nQ 54.890625 34.8125 54.890625 23.390625 \nQ 54.890625 11.625 47.5625 5.09375 \nQ 40.234375 -1.421875 26.90625 -1.421875 \nQ 22.3125 -1.421875 17.546875 -0.640625 \nQ 12.796875 0.140625 7.71875 1.703125 \nL 7.71875 11.625 \nQ 12.109375 9.234375 16.796875 8.0625 \nQ 21.484375 6.890625 26.703125 6.890625 \nQ 35.15625 6.890625 40.078125 11.328125 \nQ 45.015625 15.765625 45.015625 23.390625 \nQ 45.015625 31 40.078125 35.4375 \nQ 35.15625 39.890625 26.703125 39.890625 \nQ 22.75 39.890625 18.8125 39.015625 \nQ 14.890625 38.140625 10.796875 36.28125 \nz\n\" id=\"DejaVuSans-53\"/>\n       </defs>\n       <use xlink:href=\"#DejaVuSans-8722\"/>\n       <use x=\"83.789062\" xlink:href=\"#DejaVuSans-48\"/>\n       <use x=\"147.412109\" xlink:href=\"#DejaVuSans-46\"/>\n       <use x=\"179.199219\" xlink:href=\"#DejaVuSans-53\"/>\n      </g>\n     </g>\n    </g>\n    <g id=\"xtick_3\">\n     <g id=\"line2d_3\">\n      <g>\n       <use style=\"stroke:#000000;stroke-width:0.8;\" x=\"183.100157\" xlink:href=\"#maf2c9dbeaf\" y=\"239.758125\"/>\n      </g>\n     </g>\n     <g id=\"text_3\">\n      <!-- 0.0 -->\n      <g transform=\"translate(175.148594 254.356562)scale(0.1 -0.1)\">\n       <use xlink:href=\"#DejaVuSans-48\"/>\n       <use x=\"63.623047\" xlink:href=\"#DejaVuSans-46\"/>\n       <use x=\"95.410156\" xlink:href=\"#DejaVuSans-48\"/>\n      </g>\n     </g>\n    </g>\n    <g id=\"xtick_4\">\n     <g id=\"line2d_4\">\n      <g>\n       <use style=\"stroke:#000000;stroke-width:0.8;\" x=\"227.301545\" xlink:href=\"#maf2c9dbeaf\" y=\"239.758125\"/>\n      </g>\n     </g>\n     <g id=\"text_4\">\n      <!-- 0.5 -->\n      <g transform=\"translate(219.349983 254.356562)scale(0.1 -0.1)\">\n       <use xlink:href=\"#DejaVuSans-48\"/>\n       <use x=\"63.623047\" xlink:href=\"#DejaVuSans-46\"/>\n       <use x=\"95.410156\" xlink:href=\"#DejaVuSans-53\"/>\n      </g>\n     </g>\n    </g>\n    <g id=\"xtick_5\">\n     <g id=\"line2d_5\">\n      <g>\n       <use style=\"stroke:#000000;stroke-width:0.8;\" x=\"271.502934\" xlink:href=\"#maf2c9dbeaf\" y=\"239.758125\"/>\n      </g>\n     </g>\n     <g id=\"text_5\">\n      <!-- 1.0 -->\n      <g transform=\"translate(263.551371 254.356562)scale(0.1 -0.1)\">\n       <use xlink:href=\"#DejaVuSans-49\"/>\n       <use x=\"63.623047\" xlink:href=\"#DejaVuSans-46\"/>\n       <use x=\"95.410156\" xlink:href=\"#DejaVuSans-48\"/>\n      </g>\n     </g>\n    </g>\n    <g id=\"xtick_6\">\n     <g id=\"line2d_6\">\n      <g>\n       <use style=\"stroke:#000000;stroke-width:0.8;\" x=\"315.704323\" xlink:href=\"#maf2c9dbeaf\" y=\"239.758125\"/>\n      </g>\n     </g>\n     <g id=\"text_6\">\n      <!-- 1.5 -->\n      <g transform=\"translate(307.75276 254.356562)scale(0.1 -0.1)\">\n       <use xlink:href=\"#DejaVuSans-49\"/>\n       <use x=\"63.623047\" xlink:href=\"#DejaVuSans-46\"/>\n       <use x=\"95.410156\" xlink:href=\"#DejaVuSans-53\"/>\n      </g>\n     </g>\n    </g>\n    <g id=\"xtick_7\">\n     <g id=\"line2d_7\">\n      <g>\n       <use style=\"stroke:#000000;stroke-width:0.8;\" x=\"359.905711\" xlink:href=\"#maf2c9dbeaf\" y=\"239.758125\"/>\n      </g>\n     </g>\n     <g id=\"text_7\">\n      <!-- 2.0 -->\n      <g transform=\"translate(351.954149 254.356562)scale(0.1 -0.1)\">\n       <defs>\n        <path d=\"M 19.1875 8.296875 \nL 53.609375 8.296875 \nL 53.609375 0 \nL 7.328125 0 \nL 7.328125 8.296875 \nQ 12.9375 14.109375 22.625 23.890625 \nQ 32.328125 33.6875 34.8125 36.53125 \nQ 39.546875 41.84375 41.421875 45.53125 \nQ 43.3125 49.21875 43.3125 52.78125 \nQ 43.3125 58.59375 39.234375 62.25 \nQ 35.15625 65.921875 28.609375 65.921875 \nQ 23.96875 65.921875 18.8125 64.3125 \nQ 13.671875 62.703125 7.8125 59.421875 \nL 7.8125 69.390625 \nQ 13.765625 71.78125 18.9375 73 \nQ 24.125 74.21875 28.421875 74.21875 \nQ 39.75 74.21875 46.484375 68.546875 \nQ 53.21875 62.890625 53.21875 53.421875 \nQ 53.21875 48.921875 51.53125 44.890625 \nQ 49.859375 40.875 45.40625 35.40625 \nQ 44.1875 33.984375 37.640625 27.21875 \nQ 31.109375 20.453125 19.1875 8.296875 \nz\n\" id=\"DejaVuSans-50\"/>\n       </defs>\n       <use xlink:href=\"#DejaVuSans-50\"/>\n       <use x=\"63.623047\" xlink:href=\"#DejaVuSans-46\"/>\n       <use x=\"95.410156\" xlink:href=\"#DejaVuSans-48\"/>\n      </g>\n     </g>\n    </g>\n    <g id=\"text_8\">\n     <!-- $\\sigma$ -->\n     <g transform=\"translate(221.543438 274.113437)scale(0.18 -0.18)\">\n      <defs>\n       <path d=\"M 34.671875 47.5625 \nQ 27.25 47.5625 22.21875 42.1875 \nQ 16.890625 36.578125 15.140625 27.296875 \nQ 13.1875 17.484375 16.3125 11.8125 \nQ 19.390625 6.203125 26.65625 6.203125 \nQ 33.84375 6.203125 39.109375 11.859375 \nQ 44.4375 17.53125 46.34375 27.296875 \nQ 48.046875 36.234375 45.015625 42.1875 \nQ 42.1875 47.5625 34.671875 47.5625 \nz\nM 36.078125 54.734375 \nL 65.921875 54.6875 \nL 64.15625 45.703125 \nL 54.109375 45.703125 \nQ 57.90625 38.09375 55.859375 27.296875 \nQ 53.21875 13.875 45.0625 6.25 \nQ 36.859375 -1.421875 25.140625 -1.421875 \nQ 13.375 -1.421875 8.203125 6.25 \nQ 3.03125 13.875 5.671875 27.296875 \nQ 8.25 40.765625 16.40625 48.390625 \nQ 23.1875 54.734375 36.078125 54.734375 \nz\n\" id=\"DejaVuSans-Oblique-963\"/>\n      </defs>\n      <use transform=\"translate(0 0.265625)\" xlink:href=\"#DejaVuSans-Oblique-963\"/>\n     </g>\n    </g>\n   </g>\n   <g id=\"matplotlib.axis_2\">\n    <g id=\"ytick_1\">\n     <g id=\"line2d_8\">\n      <defs>\n       <path d=\"M 0 0 \nL -3.5 0 \n\" id=\"m0ed6c21287\" style=\"stroke:#000000;stroke-width:0.8;\"/>\n      </defs>\n      <g>\n       <use style=\"stroke:#000000;stroke-width:0.8;\" x=\"59.903438\" xlink:href=\"#m0ed6c21287\" y=\"219.440902\"/>\n      </g>\n     </g>\n     <g id=\"text_9\">\n      <!-- −1.0 -->\n      <g transform=\"translate(28.620625 223.240121)scale(0.1 -0.1)\">\n       <use xlink:href=\"#DejaVuSans-8722\"/>\n       <use x=\"83.789062\" xlink:href=\"#DejaVuSans-49\"/>\n       <use x=\"147.412109\" xlink:href=\"#DejaVuSans-46\"/>\n       <use x=\"179.199219\" xlink:href=\"#DejaVuSans-48\"/>\n      </g>\n     </g>\n    </g>\n    <g id=\"ytick_2\">\n     <g id=\"line2d_9\">\n      <g>\n       <use style=\"stroke:#000000;stroke-width:0.8;\" x=\"59.903438\" xlink:href=\"#m0ed6c21287\" y=\"175.239514\"/>\n      </g>\n     </g>\n     <g id=\"text_10\">\n      <!-- −0.5 -->\n      <g transform=\"translate(28.620625 179.038732)scale(0.1 -0.1)\">\n       <use xlink:href=\"#DejaVuSans-8722\"/>\n       <use x=\"83.789062\" xlink:href=\"#DejaVuSans-48\"/>\n       <use x=\"147.412109\" xlink:href=\"#DejaVuSans-46\"/>\n       <use x=\"179.199219\" xlink:href=\"#DejaVuSans-53\"/>\n      </g>\n     </g>\n    </g>\n    <g id=\"ytick_3\">\n     <g id=\"line2d_10\">\n      <g>\n       <use style=\"stroke:#000000;stroke-width:0.8;\" x=\"59.903438\" xlink:href=\"#m0ed6c21287\" y=\"131.038125\"/>\n      </g>\n     </g>\n     <g id=\"text_11\">\n      <!-- 0.0 -->\n      <g transform=\"translate(37.000312 134.837344)scale(0.1 -0.1)\">\n       <use xlink:href=\"#DejaVuSans-48\"/>\n       <use x=\"63.623047\" xlink:href=\"#DejaVuSans-46\"/>\n       <use x=\"95.410156\" xlink:href=\"#DejaVuSans-48\"/>\n      </g>\n     </g>\n    </g>\n    <g id=\"ytick_4\">\n     <g id=\"line2d_11\">\n      <g>\n       <use style=\"stroke:#000000;stroke-width:0.8;\" x=\"59.903438\" xlink:href=\"#m0ed6c21287\" y=\"86.836736\"/>\n      </g>\n     </g>\n     <g id=\"text_12\">\n      <!-- 0.5 -->\n      <g transform=\"translate(37.000312 90.635955)scale(0.1 -0.1)\">\n       <use xlink:href=\"#DejaVuSans-48\"/>\n       <use x=\"63.623047\" xlink:href=\"#DejaVuSans-46\"/>\n       <use x=\"95.410156\" xlink:href=\"#DejaVuSans-53\"/>\n      </g>\n     </g>\n    </g>\n    <g id=\"ytick_5\">\n     <g id=\"line2d_12\">\n      <g>\n       <use style=\"stroke:#000000;stroke-width:0.8;\" x=\"59.903438\" xlink:href=\"#m0ed6c21287\" y=\"42.635348\"/>\n      </g>\n     </g>\n     <g id=\"text_13\">\n      <!-- 1.0 -->\n      <g transform=\"translate(37.000312 46.434566)scale(0.1 -0.1)\">\n       <use xlink:href=\"#DejaVuSans-49\"/>\n       <use x=\"63.623047\" xlink:href=\"#DejaVuSans-46\"/>\n       <use x=\"95.410156\" xlink:href=\"#DejaVuSans-48\"/>\n      </g>\n     </g>\n    </g>\n    <g id=\"text_14\">\n     <!-- $\\tau$ -->\n     <g transform=\"translate(20.877188 136.528125)rotate(-90)scale(0.18 -0.18)\">\n      <defs>\n       <path d=\"M 32.859375 9.96875 \nQ 34.1875 7.625 39.453125 7.625 \nL 43.75 7.625 \nL 42.28125 0 \nL 36.921875 0 \nQ 28.125 0 25 4.6875 \nQ 21.921875 9.46875 23.96875 19.828125 \nL 29 45.703125 \nL 8.453125 45.703125 \nL 10.203125 54.6875 \nL 60.640625 54.6875 \nL 58.890625 45.703125 \nL 38.1875 45.703125 \nL 33.015625 19.28125 \nQ 31.640625 12.203125 32.859375 9.96875 \nz\n\" id=\"DejaVuSans-Oblique-964\"/>\n      </defs>\n      <use transform=\"translate(0 0.3125)\" xlink:href=\"#DejaVuSans-Oblique-964\"/>\n     </g>\n    </g>\n   </g>\n   <g id=\"line2d_13\">\n    <path clip-path=\"url(#pe0073470a0)\" d=\"M 183.100157 131.038125 \nL 183.100157 42.635348 \nL 271.502934 219.440902 \nL 271.502934 131.038125 \nL 183.100157 131.038125 \n\" style=\"fill:none;stroke:#1f77b4;stroke-linecap:square;stroke-width:1.5;\"/>\n   </g>\n   <g id=\"line2d_14\">\n    <path clip-path=\"url(#pe0073470a0)\" d=\"M 326.138855 131.038125 \nL 326.002646 125.850984 \nL 325.594396 120.678141 \nL 324.915229 115.533851 \nL 323.967018 110.432295 \nL 322.752375 105.387533 \nL 321.274649 100.413469 \nL 319.537913 95.523814 \nL 317.546953 90.732044 \nL 315.307257 86.051367 \nL 312.824999 81.494682 \nL 310.107019 77.07455 \nL 307.160809 72.803154 \nL 303.994489 68.692266 \nL 300.616787 64.753216 \nL 297.037012 60.996863 \nL 293.265031 57.433558 \nL 289.311241 54.073123 \nL 285.186538 50.924821 \nL 280.902291 47.997329 \nL 276.470309 45.298715 \nL 271.902807 42.836417 \nL 267.212375 40.617223 \nL 262.411939 38.647249 \nL 257.514732 36.931924 \nL 252.53425 35.475976 \nL 247.484222 34.283418 \nL 242.378566 33.357537 \nL 237.231354 32.700885 \nL 232.056773 32.315273 \nL 226.869086 32.201761 \nL 221.682591 32.360665 \nL 216.511583 32.791545 \nL 211.370315 33.493214 \nL 206.272956 34.463738 \nL 201.233557 35.700442 \nL 196.266007 37.199918 \nL 191.383998 38.958032 \nL 186.600985 40.969939 \nL 181.930152 43.230093 \nL 177.384372 45.732266 \nL 172.976175 48.46956 \nL 168.71771 51.434431 \nL 164.620716 54.618707 \nL 160.696483 58.013612 \nL 156.955828 61.609789 \nL 153.409062 65.397324 \nL 150.065959 69.365781 \nL 146.935735 73.50422 \nL 144.027016 77.801234 \nL 141.34782 82.244981 \nL 138.905531 86.823213 \nL 136.706881 91.523311 \nL 134.757929 96.33232 \nL 133.064048 101.236986 \nL 131.629906 106.22379 \nL 130.459456 111.278988 \nL 129.555923 116.388647 \nL 128.921799 121.538683 \nL 128.558831 126.714901 \nL 128.46802 131.903035 \nL 128.649615 137.088785 \nL 129.103117 142.257858 \nL 129.827274 147.396007 \nL 130.820092 152.48907 \nL 132.078834 157.52301 \nL 133.600031 162.483952 \nL 135.379489 167.358222 \nL 137.412305 172.132386 \nL 139.692875 176.793285 \nL 142.214913 181.328073 \nL 144.971469 185.724251 \nL 147.954945 189.969702 \nL 151.157117 194.052725 \nL 154.56916 197.962066 \nL 158.181669 201.68695 \nL 161.984687 205.21711 \nL 165.967733 208.542817 \nL 170.119828 211.654904 \nL 174.429529 214.544793 \nL 178.884956 217.20452 \nL 183.47383 219.626754 \nL 188.183503 221.804818 \nL 193.000994 223.732709 \nL 197.913024 225.405114 \nL 202.906056 226.817423 \nL 207.966327 227.965743 \nL 213.07989 228.846909 \nL 218.232651 229.458494 \nL 223.410408 229.79881 \nL 228.598889 229.86692 \nL 233.783795 229.662636 \nL 238.950835 229.186522 \nL 244.085766 228.43989 \nL 249.174436 227.424796 \nL 254.20282 226.144041 \nL 259.157059 224.601152 \nL 264.023496 222.800384 \nL 268.78872 220.746698 \nL 273.439596 218.445757 \nL 277.963305 215.903901 \nL 282.34738 213.128136 \nL 286.579737 210.126113 \nL 290.648709 206.906106 \nL 294.543083 203.476991 \nL 298.252125 199.848219 \nL 301.765612 196.029791 \nL 305.073859 192.032231 \nL 308.167749 187.866559 \nL 311.038754 183.544255 \nL 313.678961 179.077233 \nL 316.081093 174.477804 \nL 318.238529 169.758646 \nL 320.145323 164.932766 \nL 321.796219 160.013465 \nL 323.186668 155.014302 \nL 324.312836 149.949055 \nL 325.17162 144.831686 \nL 325.760652 139.676298 \nL 326.07831 134.497102 \nL 326.138855 131.038125 \nL 326.138855 131.038125 \n\" style=\"fill:none;stroke:#ff7f0e;stroke-linecap:square;stroke-width:1.5;\"/>\n   </g>\n   <g id=\"patch_3\">\n    <path d=\"M 59.903438 239.758125 \nL 59.903438 22.318125 \n\" style=\"fill:none;stroke:#000000;stroke-linecap:square;stroke-linejoin:miter;stroke-width:0.8;\"/>\n   </g>\n   <g id=\"patch_4\">\n    <path d=\"M 394.703438 239.758125 \nL 394.703438 22.318125 \n\" style=\"fill:none;stroke:#000000;stroke-linecap:square;stroke-linejoin:miter;stroke-width:0.8;\"/>\n   </g>\n   <g id=\"patch_5\">\n    <path d=\"M 59.903438 239.758125 \nL 394.703438 239.758125 \n\" style=\"fill:none;stroke:#000000;stroke-linecap:square;stroke-linejoin:miter;stroke-width:0.8;\"/>\n   </g>\n   <g id=\"patch_6\">\n    <path d=\"M 59.903438 22.318125 \nL 394.703438 22.318125 \n\" style=\"fill:none;stroke:#000000;stroke-linecap:square;stroke-linejoin:miter;stroke-width:0.8;\"/>\n   </g>\n   <g id=\"text_15\">\n    <g id=\"patch_7\">\n     <path d=\"M 69.16185 89.241315 \nL 170.32185 89.241315 \nQ 173.92185 89.241315 173.92185 85.641315 \nL 173.92185 32.200815 \nQ 173.92185 28.600815 170.32185 28.600815 \nL 69.16185 28.600815 \nQ 65.56185 28.600815 65.56185 32.200815 \nL 65.56185 85.641315 \nQ 65.56185 89.241315 69.16185 89.241315 \nz\n\" style=\"fill:#f5deb3;opacity:0.5;stroke:#000000;stroke-linejoin:miter;\"/>\n    </g>\n    <!-- $\\sigma_{min} = -0.6~MPa$ -->\n    <g transform=\"translate(69.16185 41.31894)scale(0.12 -0.12)\">\n     <defs>\n      <path d=\"M 89.796875 33.015625 \nL 83.40625 0 \nL 74.421875 0 \nL 80.71875 32.71875 \nQ 81.109375 34.8125 81.296875 36.328125 \nQ 81.5 37.84375 81.5 38.921875 \nQ 81.5 43.3125 79.046875 45.75 \nQ 76.609375 48.1875 72.21875 48.1875 \nQ 65.671875 48.1875 60.546875 43.28125 \nQ 55.421875 38.375 53.90625 30.515625 \nL 47.90625 0 \nL 38.921875 0 \nL 45.3125 32.71875 \nQ 45.703125 34.515625 45.890625 36.046875 \nQ 46.09375 37.59375 46.09375 38.8125 \nQ 46.09375 43.265625 43.65625 45.71875 \nQ 41.21875 48.1875 36.921875 48.1875 \nQ 30.28125 48.1875 25.140625 43.28125 \nQ 20.015625 38.375 18.5 30.515625 \nL 12.5 0 \nL 3.515625 0 \nL 14.203125 54.6875 \nL 23.1875 54.6875 \nL 21.484375 46.1875 \nQ 25.140625 50.984375 30.046875 53.484375 \nQ 34.96875 56 40.578125 56 \nQ 46.53125 56 50.359375 52.875 \nQ 54.203125 49.75 54.984375 44.1875 \nQ 59.078125 49.953125 64.46875 52.96875 \nQ 69.875 56 75.875 56 \nQ 82.90625 56 86.734375 51.953125 \nQ 90.578125 47.90625 90.578125 40.484375 \nQ 90.578125 38.875 90.375 36.9375 \nQ 90.1875 35.015625 89.796875 33.015625 \nz\n\" id=\"DejaVuSans-Oblique-109\"/>\n      <path d=\"M 18.3125 75.984375 \nL 27.296875 75.984375 \nL 25.09375 64.59375 \nL 16.109375 64.59375 \nz\nM 14.203125 54.6875 \nL 23.1875 54.6875 \nL 12.5 0 \nL 3.515625 0 \nz\n\" id=\"DejaVuSans-Oblique-105\"/>\n      <path d=\"M 55.71875 33.015625 \nL 49.3125 0 \nL 40.28125 0 \nL 46.6875 32.671875 \nQ 47.125 34.96875 47.359375 36.71875 \nQ 47.609375 38.484375 47.609375 39.5 \nQ 47.609375 43.609375 45.015625 45.890625 \nQ 42.4375 48.1875 37.796875 48.1875 \nQ 30.5625 48.1875 25.34375 43.375 \nQ 20.125 38.578125 18.5 30.328125 \nL 12.5 0 \nL 3.515625 0 \nL 14.109375 54.6875 \nL 23.09375 54.6875 \nL 21.296875 46.09375 \nQ 25.046875 50.828125 30.3125 53.40625 \nQ 35.59375 56 41.40625 56 \nQ 48.640625 56 52.609375 52.09375 \nQ 56.59375 48.1875 56.59375 41.109375 \nQ 56.59375 39.359375 56.375 37.359375 \nQ 56.15625 35.359375 55.71875 33.015625 \nz\n\" id=\"DejaVuSans-Oblique-110\"/>\n      <path d=\"M 10.59375 45.40625 \nL 73.1875 45.40625 \nL 73.1875 37.203125 \nL 10.59375 37.203125 \nz\nM 10.59375 25.484375 \nL 73.1875 25.484375 \nL 73.1875 17.1875 \nL 10.59375 17.1875 \nz\n\" id=\"DejaVuSans-61\"/>\n      <path d=\"M 33.015625 40.375 \nQ 26.375 40.375 22.484375 35.828125 \nQ 18.609375 31.296875 18.609375 23.390625 \nQ 18.609375 15.53125 22.484375 10.953125 \nQ 26.375 6.390625 33.015625 6.390625 \nQ 39.65625 6.390625 43.53125 10.953125 \nQ 47.40625 15.53125 47.40625 23.390625 \nQ 47.40625 31.296875 43.53125 35.828125 \nQ 39.65625 40.375 33.015625 40.375 \nz\nM 52.59375 71.296875 \nL 52.59375 62.3125 \nQ 48.875 64.0625 45.09375 64.984375 \nQ 41.3125 65.921875 37.59375 65.921875 \nQ 27.828125 65.921875 22.671875 59.328125 \nQ 17.53125 52.734375 16.796875 39.40625 \nQ 19.671875 43.65625 24.015625 45.921875 \nQ 28.375 48.1875 33.59375 48.1875 \nQ 44.578125 48.1875 50.953125 41.515625 \nQ 57.328125 34.859375 57.328125 23.390625 \nQ 57.328125 12.15625 50.6875 5.359375 \nQ 44.046875 -1.421875 33.015625 -1.421875 \nQ 20.359375 -1.421875 13.671875 8.265625 \nQ 6.984375 17.96875 6.984375 36.375 \nQ 6.984375 53.65625 15.1875 63.9375 \nQ 23.390625 74.21875 37.203125 74.21875 \nQ 40.921875 74.21875 44.703125 73.484375 \nQ 48.484375 72.75 52.59375 71.296875 \nz\n\" id=\"DejaVuSans-54\"/>\n      <path d=\"M 16.890625 72.90625 \nL 31.6875 72.90625 \nL 40.1875 23.78125 \nL 68.40625 72.90625 \nL 83.59375 72.90625 \nL 69.390625 0 \nL 59.8125 0 \nL 72.21875 63.921875 \nL 43.609375 14.015625 \nL 33.984375 14.015625 \nL 24.703125 64.109375 \nL 12.3125 0 \nL 2.6875 0 \nz\n\" id=\"DejaVuSans-Oblique-77\"/>\n      <path d=\"M 16.890625 72.90625 \nL 39.703125 72.90625 \nQ 49.65625 72.90625 54.875 68.265625 \nQ 60.109375 63.625 60.109375 54.6875 \nQ 60.109375 42.671875 52.390625 35.984375 \nQ 44.671875 29.296875 30.71875 29.296875 \nL 18.3125 29.296875 \nL 12.59375 0 \nL 2.6875 0 \nz\nM 25.203125 64.796875 \nL 19.921875 37.40625 \nL 32.328125 37.40625 \nQ 40.71875 37.40625 45.203125 41.703125 \nQ 49.703125 46 49.703125 54 \nQ 49.703125 59.125 46.65625 61.953125 \nQ 43.609375 64.796875 38.09375 64.796875 \nz\n\" id=\"DejaVuSans-Oblique-80\"/>\n      <path d=\"M 53.71875 31.203125 \nL 47.609375 0 \nL 38.625 0 \nL 40.28125 8.296875 \nQ 36.328125 3.421875 31.265625 1 \nQ 26.21875 -1.421875 20.015625 -1.421875 \nQ 13.03125 -1.421875 8.5625 2.84375 \nQ 4.109375 7.125 4.109375 13.8125 \nQ 4.109375 23.390625 11.75 28.953125 \nQ 19.390625 34.515625 32.8125 34.515625 \nL 45.3125 34.515625 \nL 45.796875 36.921875 \nQ 45.90625 37.3125 45.953125 37.765625 \nQ 46 38.234375 46 39.203125 \nQ 46 43.5625 42.453125 45.96875 \nQ 38.921875 48.390625 32.515625 48.390625 \nQ 28.125 48.390625 23.5 47.265625 \nQ 18.890625 46.140625 14.015625 43.890625 \nL 15.578125 52.203125 \nQ 20.65625 54.109375 25.515625 55.046875 \nQ 30.375 56 34.90625 56 \nQ 44.578125 56 49.625 51.796875 \nQ 54.6875 47.609375 54.6875 39.59375 \nQ 54.6875 37.984375 54.4375 35.8125 \nQ 54.203125 33.640625 53.71875 31.203125 \nz\nM 44 27.484375 \nL 35.015625 27.484375 \nQ 23.96875 27.484375 18.671875 24.53125 \nQ 13.375 21.578125 13.375 15.375 \nQ 13.375 11.078125 16.078125 8.640625 \nQ 18.796875 6.203125 23.578125 6.203125 \nQ 30.90625 6.203125 36.375 11.453125 \nQ 41.84375 16.703125 43.609375 25.484375 \nz\n\" id=\"DejaVuSans-Oblique-97\"/>\n     </defs>\n     <use transform=\"translate(0 0.78125)\" xlink:href=\"#DejaVuSans-Oblique-963\"/>\n     <use transform=\"translate(63.378906 -15.625)scale(0.7)\" xlink:href=\"#DejaVuSans-Oblique-109\"/>\n     <use transform=\"translate(131.567383 -15.625)scale(0.7)\" xlink:href=\"#DejaVuSans-Oblique-105\"/>\n     <use transform=\"translate(151.015625 -15.625)scale(0.7)\" xlink:href=\"#DejaVuSans-Oblique-110\"/>\n     <use transform=\"translate(217.597656 0.78125)\" xlink:href=\"#DejaVuSans-61\"/>\n     <use transform=\"translate(340.351562 0.78125)\" xlink:href=\"#DejaVuSans-8722\"/>\n     <use transform=\"translate(443.623047 0.78125)\" xlink:href=\"#DejaVuSans-48\"/>\n     <use transform=\"translate(507.246094 0.78125)\" xlink:href=\"#DejaVuSans-46\"/>\n     <use transform=\"translate(539.033203 0.78125)\" xlink:href=\"#DejaVuSans-54\"/>\n     <use transform=\"translate(635.126628 0.78125)\" xlink:href=\"#DejaVuSans-Oblique-77\"/>\n     <use transform=\"translate(721.405925 0.78125)\" xlink:href=\"#DejaVuSans-Oblique-80\"/>\n     <use transform=\"translate(781.70866 0.78125)\" xlink:href=\"#DejaVuSans-Oblique-97\"/>\n    </g>\n    <!-- $\\sigma_{max} = 1.6~MPa$ -->\n    <g transform=\"translate(69.16185 54.756315)scale(0.12 -0.12)\">\n     <defs>\n      <path d=\"M 60.015625 54.6875 \nL 34.90625 27.875 \nL 50.296875 0 \nL 39.984375 0 \nL 28.421875 21.6875 \nL 8.296875 0 \nL -2.59375 0 \nL 24.3125 28.8125 \nL 10.015625 54.6875 \nL 20.3125 54.6875 \nL 30.8125 34.90625 \nL 49.125 54.6875 \nz\n\" id=\"DejaVuSans-Oblique-120\"/>\n     </defs>\n     <use transform=\"translate(0 0.78125)\" xlink:href=\"#DejaVuSans-Oblique-963\"/>\n     <use transform=\"translate(63.378906 -15.625)scale(0.7)\" xlink:href=\"#DejaVuSans-Oblique-109\"/>\n     <use transform=\"translate(131.567383 -15.625)scale(0.7)\" xlink:href=\"#DejaVuSans-Oblique-97\"/>\n     <use transform=\"translate(174.462891 -15.625)scale(0.7)\" xlink:href=\"#DejaVuSans-Oblique-120\"/>\n     <use transform=\"translate(238.105469 0.78125)\" xlink:href=\"#DejaVuSans-61\"/>\n     <use transform=\"translate(341.376953 0.78125)\" xlink:href=\"#DejaVuSans-49\"/>\n     <use transform=\"translate(405 0.78125)\" xlink:href=\"#DejaVuSans-46\"/>\n     <use transform=\"translate(436.787109 0.78125)\" xlink:href=\"#DejaVuSans-54\"/>\n     <use transform=\"translate(532.880535 0.78125)\" xlink:href=\"#DejaVuSans-Oblique-77\"/>\n     <use transform=\"translate(619.159832 0.78125)\" xlink:href=\"#DejaVuSans-Oblique-80\"/>\n     <use transform=\"translate(679.462566 0.78125)\" xlink:href=\"#DejaVuSans-Oblique-97\"/>\n    </g>\n    <!-- $\\theta_{p} = -32^{o}$ -->\n    <g transform=\"translate(69.16185 68.48394)scale(0.12 -0.12)\">\n     <defs>\n      <path d=\"M 45.515625 34.671875 \nL 14.453125 34.671875 \nQ 12.359375 20.0625 14.5 13.875 \nQ 17.1875 6.25 24.46875 6.25 \nQ 31.78125 6.25 37.359375 13.921875 \nQ 42.234375 20.65625 45.515625 34.671875 \nz\nM 47.015625 42.96875 \nQ 48.34375 56.84375 46.625 61.71875 \nQ 43.953125 69.4375 36.765625 69.4375 \nQ 29.296875 69.4375 23.828125 61.8125 \nQ 19.53125 55.671875 16.15625 42.96875 \nz\nM 38.1875 76.765625 \nQ 49.90625 76.765625 54.59375 66.40625 \nQ 59.28125 56.109375 55.71875 37.84375 \nQ 52.203125 19.625 43.453125 9.28125 \nQ 34.765625 -1.125 23.046875 -1.125 \nQ 11.28125 -1.125 6.640625 9.28125 \nQ 2 19.625 5.515625 37.84375 \nQ 9.078125 56.109375 17.71875 66.40625 \nQ 26.421875 76.765625 38.1875 76.765625 \nz\n\" id=\"DejaVuSans-Oblique-952\"/>\n      <path d=\"M 49.609375 33.6875 \nQ 49.609375 40.875 46.484375 44.671875 \nQ 43.359375 48.484375 37.5 48.484375 \nQ 33.5 48.484375 29.859375 46.4375 \nQ 26.21875 44.390625 23.390625 40.484375 \nQ 20.609375 36.625 18.9375 31.15625 \nQ 17.28125 25.6875 17.28125 20.3125 \nQ 17.28125 13.484375 20.40625 9.796875 \nQ 23.53125 6.109375 29.296875 6.109375 \nQ 33.546875 6.109375 37.1875 8.109375 \nQ 40.828125 10.109375 43.40625 13.921875 \nQ 46.1875 17.921875 47.890625 23.34375 \nQ 49.609375 28.765625 49.609375 33.6875 \nz\nM 21.78125 46.390625 \nQ 25.390625 51.125 30.296875 53.5625 \nQ 35.203125 56 41.21875 56 \nQ 49.609375 56 54.25 50.5 \nQ 58.890625 45.015625 58.890625 35.109375 \nQ 58.890625 27 56 19.65625 \nQ 53.125 12.3125 47.703125 6.5 \nQ 44.09375 2.640625 39.546875 0.609375 \nQ 35.015625 -1.421875 29.984375 -1.421875 \nQ 24.171875 -1.421875 20.21875 1 \nQ 16.265625 3.421875 14.3125 8.203125 \nL 8.6875 -20.796875 \nL -0.296875 -20.796875 \nL 14.40625 54.6875 \nL 23.390625 54.6875 \nz\n\" id=\"DejaVuSans-Oblique-112\"/>\n      <path d=\"M 40.578125 39.3125 \nQ 47.65625 37.796875 51.625 33 \nQ 55.609375 28.21875 55.609375 21.1875 \nQ 55.609375 10.40625 48.1875 4.484375 \nQ 40.765625 -1.421875 27.09375 -1.421875 \nQ 22.515625 -1.421875 17.65625 -0.515625 \nQ 12.796875 0.390625 7.625 2.203125 \nL 7.625 11.71875 \nQ 11.71875 9.328125 16.59375 8.109375 \nQ 21.484375 6.890625 26.8125 6.890625 \nQ 36.078125 6.890625 40.9375 10.546875 \nQ 45.796875 14.203125 45.796875 21.1875 \nQ 45.796875 27.640625 41.28125 31.265625 \nQ 36.765625 34.90625 28.71875 34.90625 \nL 20.21875 34.90625 \nL 20.21875 43.015625 \nL 29.109375 43.015625 \nQ 36.375 43.015625 40.234375 45.921875 \nQ 44.09375 48.828125 44.09375 54.296875 \nQ 44.09375 59.90625 40.109375 62.90625 \nQ 36.140625 65.921875 28.71875 65.921875 \nQ 24.65625 65.921875 20.015625 65.03125 \nQ 15.375 64.15625 9.8125 62.3125 \nL 9.8125 71.09375 \nQ 15.4375 72.65625 20.34375 73.4375 \nQ 25.25 74.21875 29.59375 74.21875 \nQ 40.828125 74.21875 47.359375 69.109375 \nQ 53.90625 64.015625 53.90625 55.328125 \nQ 53.90625 49.265625 50.4375 45.09375 \nQ 46.96875 40.921875 40.578125 39.3125 \nz\n\" id=\"DejaVuSans-51\"/>\n      <path d=\"M 25.390625 -1.421875 \nQ 15.765625 -1.421875 10.171875 4.515625 \nQ 4.59375 10.453125 4.59375 20.703125 \nQ 4.59375 26.65625 6.515625 32.828125 \nQ 8.453125 39.015625 11.53125 43.21875 \nQ 16.359375 49.75 22.3125 52.875 \nQ 28.265625 56 35.796875 56 \nQ 45.125 56 50.859375 50.1875 \nQ 56.59375 44.390625 56.59375 35.015625 \nQ 56.59375 28.515625 54.6875 22.0625 \nQ 52.78125 15.625 49.703125 11.375 \nQ 44.921875 4.828125 38.96875 1.703125 \nQ 33.015625 -1.421875 25.390625 -1.421875 \nz\nM 13.921875 21 \nQ 13.921875 13.578125 17.015625 9.890625 \nQ 20.125 6.203125 26.421875 6.203125 \nQ 35.453125 6.203125 41.375 14.078125 \nQ 47.3125 21.96875 47.3125 34.078125 \nQ 47.3125 41.15625 44.140625 44.765625 \nQ 40.96875 48.390625 34.8125 48.390625 \nQ 29.734375 48.390625 25.78125 46.015625 \nQ 21.828125 43.65625 18.703125 38.8125 \nQ 16.40625 35.203125 15.15625 30.5625 \nQ 13.921875 25.921875 13.921875 21 \nz\n\" id=\"DejaVuSans-Oblique-111\"/>\n     </defs>\n     <use transform=\"translate(0 0.51875)\" xlink:href=\"#DejaVuSans-Oblique-952\"/>\n     <use transform=\"translate(61.181641 -15.8875)scale(0.7)\" xlink:href=\"#DejaVuSans-Oblique-112\"/>\n     <use transform=\"translate(127.832031 0.51875)\" xlink:href=\"#DejaVuSans-61\"/>\n     <use transform=\"translate(250.585938 0.51875)\" xlink:href=\"#DejaVuSans-8722\"/>\n     <use transform=\"translate(353.857422 0.51875)\" xlink:href=\"#DejaVuSans-51\"/>\n     <use transform=\"translate(417.480469 0.51875)\" xlink:href=\"#DejaVuSans-50\"/>\n     <use transform=\"translate(482.060547 38.8)scale(0.7)\" xlink:href=\"#DejaVuSans-Oblique-111\"/>\n    </g>\n    <!-- $\\theta_{c} = 13^{o}$ -->\n    <g transform=\"translate(69.16185 83.14569)scale(0.12 -0.12)\">\n     <defs>\n      <path d=\"M 53.609375 52.59375 \nL 51.8125 43.703125 \nQ 48.578125 46.046875 44.9375 47.21875 \nQ 41.3125 48.390625 37.40625 48.390625 \nQ 33.109375 48.390625 29.21875 46.875 \nQ 25.34375 45.359375 22.703125 42.578125 \nQ 18.5 38.328125 16.203125 32.609375 \nQ 13.921875 26.90625 13.921875 20.796875 \nQ 13.921875 13.421875 17.609375 9.8125 \nQ 21.296875 6.203125 28.8125 6.203125 \nQ 32.515625 6.203125 36.6875 7.328125 \nQ 40.875 8.453125 45.40625 10.6875 \nL 43.703125 1.8125 \nQ 39.796875 0.203125 35.671875 -0.609375 \nQ 31.546875 -1.421875 27.203125 -1.421875 \nQ 16.3125 -1.421875 10.453125 4.015625 \nQ 4.59375 9.46875 4.59375 19.578125 \nQ 4.59375 28.078125 7.640625 35.234375 \nQ 10.6875 42.390625 16.703125 48.09375 \nQ 20.796875 52 26.3125 54 \nQ 31.84375 56 38.375 56 \nQ 42.1875 56 45.9375 55.140625 \nQ 49.703125 54.296875 53.609375 52.59375 \nz\n\" id=\"DejaVuSans-Oblique-99\"/>\n     </defs>\n     <use transform=\"translate(0 0.51875)\" xlink:href=\"#DejaVuSans-Oblique-952\"/>\n     <use transform=\"translate(61.181641 -15.8875)scale(0.7)\" xlink:href=\"#DejaVuSans-Oblique-99\"/>\n     <use transform=\"translate(121.884766 0.51875)\" xlink:href=\"#DejaVuSans-61\"/>\n     <use transform=\"translate(225.15625 0.51875)\" xlink:href=\"#DejaVuSans-49\"/>\n     <use transform=\"translate(288.779297 0.51875)\" xlink:href=\"#DejaVuSans-51\"/>\n     <use transform=\"translate(353.359375 38.8)scale(0.7)\" xlink:href=\"#DejaVuSans-Oblique-111\"/>\n    </g>\n   </g>\n   <g id=\"text_16\">\n    <!-- Círculo de Mohr -->\n    <g transform=\"translate(180.24375 16.318125)scale(0.12 -0.12)\">\n     <defs>\n      <path d=\"M 64.40625 67.28125 \nL 64.40625 56.890625 \nQ 59.421875 61.53125 53.78125 63.8125 \nQ 48.140625 66.109375 41.796875 66.109375 \nQ 29.296875 66.109375 22.65625 58.46875 \nQ 16.015625 50.828125 16.015625 36.375 \nQ 16.015625 21.96875 22.65625 14.328125 \nQ 29.296875 6.6875 41.796875 6.6875 \nQ 48.140625 6.6875 53.78125 8.984375 \nQ 59.421875 11.28125 64.40625 15.921875 \nL 64.40625 5.609375 \nQ 59.234375 2.09375 53.4375 0.328125 \nQ 47.65625 -1.421875 41.21875 -1.421875 \nQ 24.65625 -1.421875 15.125 8.703125 \nQ 5.609375 18.84375 5.609375 36.375 \nQ 5.609375 53.953125 15.125 64.078125 \nQ 24.65625 74.21875 41.21875 74.21875 \nQ 47.75 74.21875 53.53125 72.484375 \nQ 59.328125 70.75 64.40625 67.28125 \nz\n\" id=\"DejaVuSans-67\"/>\n      <path d=\"M 20.65625 79.984375 \nL 30.375 79.984375 \nL 14.46875 61.625 \nL 6.984375 61.625 \nz\nM 9.421875 54.6875 \nL 18.40625 54.6875 \nL 18.40625 0 \nL 9.421875 0 \nz\nM 13.921875 56 \nz\n\" id=\"DejaVuSans-237\"/>\n      <path d=\"M 41.109375 46.296875 \nQ 39.59375 47.171875 37.8125 47.578125 \nQ 36.03125 48 33.890625 48 \nQ 26.265625 48 22.1875 43.046875 \nQ 18.109375 38.09375 18.109375 28.8125 \nL 18.109375 0 \nL 9.078125 0 \nL 9.078125 54.6875 \nL 18.109375 54.6875 \nL 18.109375 46.1875 \nQ 20.953125 51.171875 25.484375 53.578125 \nQ 30.03125 56 36.53125 56 \nQ 37.453125 56 38.578125 55.875 \nQ 39.703125 55.765625 41.0625 55.515625 \nz\n\" id=\"DejaVuSans-114\"/>\n      <path d=\"M 48.78125 52.59375 \nL 48.78125 44.1875 \nQ 44.96875 46.296875 41.140625 47.34375 \nQ 37.3125 48.390625 33.40625 48.390625 \nQ 24.65625 48.390625 19.8125 42.84375 \nQ 14.984375 37.3125 14.984375 27.296875 \nQ 14.984375 17.28125 19.8125 11.734375 \nQ 24.65625 6.203125 33.40625 6.203125 \nQ 37.3125 6.203125 41.140625 7.25 \nQ 44.96875 8.296875 48.78125 10.40625 \nL 48.78125 2.09375 \nQ 45.015625 0.34375 40.984375 -0.53125 \nQ 36.96875 -1.421875 32.421875 -1.421875 \nQ 20.0625 -1.421875 12.78125 6.34375 \nQ 5.515625 14.109375 5.515625 27.296875 \nQ 5.515625 40.671875 12.859375 48.328125 \nQ 20.21875 56 33.015625 56 \nQ 37.15625 56 41.109375 55.140625 \nQ 45.0625 54.296875 48.78125 52.59375 \nz\n\" id=\"DejaVuSans-99\"/>\n      <path d=\"M 8.5 21.578125 \nL 8.5 54.6875 \nL 17.484375 54.6875 \nL 17.484375 21.921875 \nQ 17.484375 14.15625 20.5 10.265625 \nQ 23.53125 6.390625 29.59375 6.390625 \nQ 36.859375 6.390625 41.078125 11.03125 \nQ 45.3125 15.671875 45.3125 23.6875 \nL 45.3125 54.6875 \nL 54.296875 54.6875 \nL 54.296875 0 \nL 45.3125 0 \nL 45.3125 8.40625 \nQ 42.046875 3.421875 37.71875 1 \nQ 33.40625 -1.421875 27.6875 -1.421875 \nQ 18.265625 -1.421875 13.375 4.4375 \nQ 8.5 10.296875 8.5 21.578125 \nz\nM 31.109375 56 \nz\n\" id=\"DejaVuSans-117\"/>\n      <path d=\"M 9.421875 75.984375 \nL 18.40625 75.984375 \nL 18.40625 0 \nL 9.421875 0 \nz\n\" id=\"DejaVuSans-108\"/>\n      <path d=\"M 30.609375 48.390625 \nQ 23.390625 48.390625 19.1875 42.75 \nQ 14.984375 37.109375 14.984375 27.296875 \nQ 14.984375 17.484375 19.15625 11.84375 \nQ 23.34375 6.203125 30.609375 6.203125 \nQ 37.796875 6.203125 41.984375 11.859375 \nQ 46.1875 17.53125 46.1875 27.296875 \nQ 46.1875 37.015625 41.984375 42.703125 \nQ 37.796875 48.390625 30.609375 48.390625 \nz\nM 30.609375 56 \nQ 42.328125 56 49.015625 48.375 \nQ 55.71875 40.765625 55.71875 27.296875 \nQ 55.71875 13.875 49.015625 6.21875 \nQ 42.328125 -1.421875 30.609375 -1.421875 \nQ 18.84375 -1.421875 12.171875 6.21875 \nQ 5.515625 13.875 5.515625 27.296875 \nQ 5.515625 40.765625 12.171875 48.375 \nQ 18.84375 56 30.609375 56 \nz\n\" id=\"DejaVuSans-111\"/>\n      <path id=\"DejaVuSans-32\"/>\n      <path d=\"M 45.40625 46.390625 \nL 45.40625 75.984375 \nL 54.390625 75.984375 \nL 54.390625 0 \nL 45.40625 0 \nL 45.40625 8.203125 \nQ 42.578125 3.328125 38.25 0.953125 \nQ 33.9375 -1.421875 27.875 -1.421875 \nQ 17.96875 -1.421875 11.734375 6.484375 \nQ 5.515625 14.40625 5.515625 27.296875 \nQ 5.515625 40.1875 11.734375 48.09375 \nQ 17.96875 56 27.875 56 \nQ 33.9375 56 38.25 53.625 \nQ 42.578125 51.265625 45.40625 46.390625 \nz\nM 14.796875 27.296875 \nQ 14.796875 17.390625 18.875 11.75 \nQ 22.953125 6.109375 30.078125 6.109375 \nQ 37.203125 6.109375 41.296875 11.75 \nQ 45.40625 17.390625 45.40625 27.296875 \nQ 45.40625 37.203125 41.296875 42.84375 \nQ 37.203125 48.484375 30.078125 48.484375 \nQ 22.953125 48.484375 18.875 42.84375 \nQ 14.796875 37.203125 14.796875 27.296875 \nz\n\" id=\"DejaVuSans-100\"/>\n      <path d=\"M 56.203125 29.59375 \nL 56.203125 25.203125 \nL 14.890625 25.203125 \nQ 15.484375 15.921875 20.484375 11.0625 \nQ 25.484375 6.203125 34.421875 6.203125 \nQ 39.59375 6.203125 44.453125 7.46875 \nQ 49.3125 8.734375 54.109375 11.28125 \nL 54.109375 2.78125 \nQ 49.265625 0.734375 44.1875 -0.34375 \nQ 39.109375 -1.421875 33.890625 -1.421875 \nQ 20.796875 -1.421875 13.15625 6.1875 \nQ 5.515625 13.8125 5.515625 26.8125 \nQ 5.515625 40.234375 12.765625 48.109375 \nQ 20.015625 56 32.328125 56 \nQ 43.359375 56 49.78125 48.890625 \nQ 56.203125 41.796875 56.203125 29.59375 \nz\nM 47.21875 32.234375 \nQ 47.125 39.59375 43.09375 43.984375 \nQ 39.0625 48.390625 32.421875 48.390625 \nQ 24.90625 48.390625 20.390625 44.140625 \nQ 15.875 39.890625 15.1875 32.171875 \nz\n\" id=\"DejaVuSans-101\"/>\n      <path d=\"M 9.8125 72.90625 \nL 24.515625 72.90625 \nL 43.109375 23.296875 \nL 61.8125 72.90625 \nL 76.515625 72.90625 \nL 76.515625 0 \nL 66.890625 0 \nL 66.890625 64.015625 \nL 48.09375 14.015625 \nL 38.1875 14.015625 \nL 19.390625 64.015625 \nL 19.390625 0 \nL 9.8125 0 \nz\n\" id=\"DejaVuSans-77\"/>\n      <path d=\"M 54.890625 33.015625 \nL 54.890625 0 \nL 45.90625 0 \nL 45.90625 32.71875 \nQ 45.90625 40.484375 42.875 44.328125 \nQ 39.84375 48.1875 33.796875 48.1875 \nQ 26.515625 48.1875 22.3125 43.546875 \nQ 18.109375 38.921875 18.109375 30.90625 \nL 18.109375 0 \nL 9.078125 0 \nL 9.078125 75.984375 \nL 18.109375 75.984375 \nL 18.109375 46.1875 \nQ 21.34375 51.125 25.703125 53.5625 \nQ 30.078125 56 35.796875 56 \nQ 45.21875 56 50.046875 50.171875 \nQ 54.890625 44.34375 54.890625 33.015625 \nz\n\" id=\"DejaVuSans-104\"/>\n     </defs>\n     <use xlink:href=\"#DejaVuSans-67\"/>\n     <use x=\"69.824219\" xlink:href=\"#DejaVuSans-237\"/>\n     <use x=\"97.607422\" xlink:href=\"#DejaVuSans-114\"/>\n     <use x=\"136.470703\" xlink:href=\"#DejaVuSans-99\"/>\n     <use x=\"191.451172\" xlink:href=\"#DejaVuSans-117\"/>\n     <use x=\"254.830078\" xlink:href=\"#DejaVuSans-108\"/>\n     <use x=\"282.613281\" xlink:href=\"#DejaVuSans-111\"/>\n     <use x=\"343.794922\" xlink:href=\"#DejaVuSans-32\"/>\n     <use x=\"375.582031\" xlink:href=\"#DejaVuSans-100\"/>\n     <use x=\"439.058594\" xlink:href=\"#DejaVuSans-101\"/>\n     <use x=\"500.582031\" xlink:href=\"#DejaVuSans-32\"/>\n     <use x=\"532.369141\" xlink:href=\"#DejaVuSans-77\"/>\n     <use x=\"618.648438\" xlink:href=\"#DejaVuSans-111\"/>\n     <use x=\"679.830078\" xlink:href=\"#DejaVuSans-104\"/>\n     <use x=\"743.208984\" xlink:href=\"#DejaVuSans-114\"/>\n    </g>\n   </g>\n  </g>\n </g>\n <defs>\n  <clipPath id=\"pe0073470a0\">\n   <rect height=\"217.44\" width=\"334.8\" x=\"59.903438\" y=\"22.318125\"/>\n  </clipPath>\n </defs>\n</svg>\n",
      "image/png": "[encoded data removed]"
     },
     "metadata": {
      "needs_background": "light"
     }
    }
   ],
   "source": [
    "mohr(0,1,1)"
   ]
  },
  {
   "cell_type": "markdown",
   "metadata": {},
   "source": [
    "### Exercícios\n",
    "\n",
    "1. Qual a necessidade de fazer análise de tensões nos elementos estruturais?\n",
    "\n",
    "R. A análise de tensões viabiliza o correto dimensionamento dos elementos estruturais, evitando disperdício de material sem, entretanto, comprometer a segurança e as condições de uso da edificação, mantendo não só a integridade, mas garantindo que deformações não causem desconforto para os usuários.\n",
    "\n",
    "2. O que significa as tensões principais? Por que precisamos calcular as tensões principais máxima e mínima? Dê um exemplo de um caso prático em que o cálculo das tensões máxima e mínima é importante;\n",
    "\n",
    "R. O cálculo das tensões permite a escolha correta dos elementos estruturais de forma que essas tensões não excedam a faixa de trabalho dos materiais, evitando não só a ruptura, como também a deformação plástica. Ao se calcular, por exemplo, a estrutura de um vaso de pressão para utilização industrial, é necessário garantir que o material resista não apenas às condições de trabalho, mas também às condições anormais impostas por falhas temporárias previstas ou manutenções eventuais. Em uma estrutura civil, o concreto armado, por exemplo, utiliza a combinação de dois materiais distintos, a saber: aço e concreto. Esses materiais apresentam respostas distintas à tração e compressão, bem como valores distintos entre si. O conhecimento das condições de tensões máxima e mínima permite prever e dimensionar corretamente de forma a evitar falhas como, por exemplo, fissuras no concreto.\n",
    "\n",
    "3. Definir o que são planos principais. Nos planos principais atuam tensões de cisalhamento?\n",
    "\n",
    "R. Os planos principais são as coordenadas locais de um ponto nas direções das tensões normais máxima e mínima, sendo essas sempre perpendiculares entre si. Nessas direções, as tensões de cisalhamento são nulas.\n",
    "\n",
    "4. O que é tensão de cisalhamento máxima?\n",
    "\n",
    "R. É a máxima tensão de cisalhamento que atua em um determinado ponto do material, em um par de direções perpendiculares definido que pode ser calculado algebricamente a partir de valores previamente conhecidos que atuam em outra direção.\n",
    "\n",
    "5. Qual o método que está apresentado no vídeo para fazer a análise de tensão?\n",
    "\n",
    "R. Método gráfico, conhecido como Círculo de Mohr"
   ]
  },
  {
   "cell_type": "markdown",
   "metadata": {},
   "source": [
    "## Critérios de Resistência"
   ]
  },
  {
   "cell_type": "markdown",
   "metadata": {},
   "source": [
    "## Vasos de Pressão"
   ]
  },
  {
   "cell_type": "markdown",
   "metadata": {},
   "source": [
    "## Análise de Deformação"
   ]
  },
  {
   "cell_type": "markdown",
   "metadata": {},
   "source": [
    "# Parte II"
   ]
  },
  {
   "cell_type": "markdown",
   "metadata": {},
   "source": [
    "## Deformação na Flexão"
   ]
  },
  {
   "cell_type": "markdown",
   "metadata": {},
   "source": [
    "## Flambagem de Colunas"
   ]
  },
  {
   "cell_type": "markdown",
   "metadata": {},
   "source": [
    "# Parte III"
   ]
  },
  {
   "cell_type": "markdown",
   "metadata": {},
   "source": [
    "## Energia de Deformação"
   ]
  },
  {
   "cell_type": "markdown",
   "metadata": {},
   "source": [
    "## Princípio dos Trabalhos Virtuais"
   ]
  }
 ],
 "metadata": {
  "kernelspec": {
   "display_name": "Python 3.7.3 64-bit",
   "language": "python",
   "name": "python_defaultSpec_1600287096322"
  },
  "language_info": {
   "codemirror_mode": {
    "name": "ipython",
    "version": 3
   },
   "file_extension": ".py",
   "mimetype": "text/x-python",
   "name": "python",
   "nbconvert_exporter": "python",
   "pygments_lexer": "ipython3",
   "version": "3.7.3-final"
  }
 },
 "nbformat": 4,
 "nbformat_minor": 4
}