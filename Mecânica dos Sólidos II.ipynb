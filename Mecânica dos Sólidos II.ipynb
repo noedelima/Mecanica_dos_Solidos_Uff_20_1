{
 "metadata": {
  "language_info": {
   "codemirror_mode": {
    "name": "ipython",
    "version": 3
   },
   "file_extension": ".py",
   "mimetype": "text/x-python",
   "name": "python",
   "nbconvert_exporter": "python",
   "pygments_lexer": "ipython3",
   "version": "3.8.5-final"
  },
  "orig_nbformat": 2,
  "kernelspec": {
   "name": "python38564bitafe1b5ab5b8c4a659d5d6f1a65a40c68",
   "display_name": "Python 3.8.5 64-bit"
  }
 },
 "nbformat": 4,
 "nbformat_minor": 2,
 "cells": [
  {
   "source": [
    "# Mecânica dos Sólidos II\n",
    "\n",
    "Universidade Federal Fluminense\n",
    "\n",
    "Disciplina ministrada pela Prof. Eliane Maria Lopes Carvalho\n",
    "\n",
    "<elianemaria@id.uff.br>\n",
    "\n",
    "Aluno Noé de Lima Bezerra\n",
    "\n",
    "<noe_lima@id.uff.br>\n",
    "\n",
    "Este caderno visa manter um resumo do conteúdo ministrado na disciplina, dada em EAD, através da plataforma Google Classroom.\n",
    "\n",
    "Primeiro semestre de 2020\n",
    "\n",
    "\\vfill\n",
    "\n",
    "A célula a seguir configura o Jupyter-Notebook para exibir as equações matemáticas no formato do ambiente $\\LaTeX$ e importa as bibliotecas necessárias."
   ],
   "cell_type": "markdown",
   "metadata": {}
  },
  {
   "cell_type": "code",
   "execution_count": 1,
   "metadata": {
    "tags": []
   },
   "outputs": [
    {
     "output_type": "stream",
     "name": "stderr",
     "text": "'uname' n�o � reconhecido como um comando interno\nou externo, um programa oper�vel ou um arquivo em lotes.\n"
    }
   ],
   "source": [
    "import numpy as np\n",
    "import sympy as sp\n",
    "import matplotlib.pyplot as plt\n",
    "sp.init_printing(use_latex='mathjax',latex_mode='equation*')\n",
    "!uname -a # Comando para ambiente UNIX apenas"
   ]
  },
  {
   "source": [
    "# Introdução"
   ],
   "cell_type": "markdown",
   "metadata": {}
  },
  {
   "source": [
    "## Dados da Disciplina\n",
    "\n",
    "Disciplina: Mecânica dos Sólidos II\n",
    "\n",
    "Código: TEC00253\n",
    "\n",
    "Período: 2020.1\n",
    "\n",
    "Carga horária: 60 horas\n",
    "\n",
    "Número de créditos: 4 horas\n",
    "\n",
    "\n",
    "Horário: Segunda/Quarta das 16:00 às 18:00 h\n",
    "\n",
    "Local: Aulas Síncronas e Assíncronas\n",
    "\n",
    "Ferramentas digitais utilizadas: Google Classroom e Google Meet (aulas síncronas e assíncronas)\n",
    "\n",
    "\n",
    "Professora: Eliane Maria Lopes Carvalho\n",
    "\n",
    "Departamento Engenharia Civil\n",
    "\n",
    "E-mail: <elianemaria@id.uff.br>"
   ],
   "cell_type": "markdown",
   "metadata": {}
  },
  {
   "source": [
    "## Programa da Disciplina\n",
    "\n",
    "1. Análise de Tensões\n",
    "\n",
    "2. Critérios de Resistência\n",
    "\n",
    "3. Vasos de Pressão \n",
    "\n",
    "4. Análise de Deformação\n",
    "\n",
    "5. Deformação na Flexão\n",
    "\n",
    "6. Flambagem de Colunas\n",
    "\n",
    "7. Energia de Deformação\n",
    "\n",
    "8. Princípio dos Trabalhos Virtuais"
   ],
   "cell_type": "markdown",
   "metadata": {}
  },
  {
   "source": [
    "## Critério de Aprovação\n",
    "\n",
    "Três Períodos de Avaliação:\n",
    "\n",
    "* $PA_{1}$ - avaliação referentes ao itens 1 a 5 do Programa da Disciplina;\n",
    "\n",
    "* $PA_{2}$ - avaliação referentes ao itens 5 e 6 do Programa da Disciplina;\n",
    "\n",
    "* $PA_{3}$ - avaliação referentes ao itens 7 e 8 do Programa da Disciplina.\n",
    "\n",
    "\n",
    "Dois tipos de Atividades de Avaliação (assíncronas) para cada PA:\n",
    "\n",
    "1. Formulários ($FT_{i}$) com questões relativas aos vídeos disponibilizados sobre a teoria dos itens do programa da disciplina;\n",
    "\n",
    "2. Exercícios Propostos ($EP_{i}$) durante o período.\n",
    "\n",
    "Plataforma das atividades: Google Classroom.\n",
    "\n",
    "$$Nota = 0,3 \\times \\frac{FT_{1} +  FT_{2} +........+FT_{n}}{n} + 0,7 \\times \\frac{EP_{1} + EP_{2}+...+EP_{n}}{n}$$\n",
    "\n",
    "Obs: será descartada a menor nota $EP_{i}$\n",
    "\n",
    "\n",
    "Pontos Extras:\n",
    "\n",
    "* Liberalidade e decisão do Professor.\n",
    "\n",
    "* Ponto para os alunos que utilizarem e colaborarem nas DÚVIDAS - AJUDA DA TURMA no Google Classroom - até $0,5$ ponto.\n",
    "\n",
    "* Ponto para os alunos que participarem e colaborarem nas aulas síncronas - até $0,5$ ponto.\n",
    "\n",
    "\n",
    "$$Media = \\frac{PA_{1} + PA_{2} + PA_{3}}{3}$$\n",
    "\n",
    "\n",
    "* Média maior ou igual a $6,0$ - aprovado\n",
    "\n",
    "* Média menor ou igual a $4,0$ - reprovado\n",
    "\n",
    "* Média maior ou igual a $4,0$ e menor do que $6,0$ - Verificação Suplementar (VS)\n",
    "\n",
    "\n",
    "\n",
    "VR - Verificação de Reposição: A falta de entrega de Exercício Proposto ($EP_{i}$) será considerada como a nota descartada. Portanto, o aluno poderá não entregar um exercício por cada Período de Avaliação\n",
    "\n",
    "VS - Verificação Suplementar no final do período letivo (síncrona)"
   ],
   "cell_type": "markdown",
   "metadata": {}
  },
  {
   "source": [
    "## Bibliografia\n",
    "\n",
    "Beer, F. P.; Johnston, E. ; DeWolf, J. T. Mecânica dos Materiais, 5ª Edição. McGraw Hill, 2010\n",
    "\n",
    "Beer, F. P.; Johnston, E. ; DeWolf, J. T. Resistência dos Materiais, 4ª Edição. McGraw Hill, 2006.\n",
    "\n",
    "Hibbeler, R. C. Resistência dos Materiais, 7ª Edição. Pearson Education do Brasil, 2010.\n",
    "\n",
    "Gere, J. Mecânica dos Materiais. 5ª Edição. CENGAGE Learning, 2009.\n",
    "\n",
    "Timoshenko, S. P. Mecânica dos Sólidos. Vol. 2. 3ª Edição. Livros Técnicos e Científicos, 1994.\n",
    "\n",
    "Shames, I. H. Introdução à Mecânica dos Sólidos. Prentice-Hall do Brasil, 1983.\n",
    "\n",
    "Instituto Nacional de Metrologia. Normalização e Qualidade Industrial. Regulamentação metrológica e quadro geral de unidades, 1983.\n",
    "\n",
    "Instituto Nacional de Metrologia. Normalização e Qualidade Industrial. Sistema Internacional de Unidades, 1984."
   ],
   "cell_type": "markdown",
   "metadata": {}
  },
  {
   "source": [
    "# Parte I"
   ],
   "cell_type": "markdown",
   "metadata": {}
  },
  {
   "source": [
    "## Análise de Tensões"
   ],
   "cell_type": "markdown",
   "metadata": {}
  },
  {
   "source": [
    "## Critérios de Resistência"
   ],
   "cell_type": "markdown",
   "metadata": {}
  },
  {
   "source": [
    "## Vasos de Pressão"
   ],
   "cell_type": "markdown",
   "metadata": {}
  },
  {
   "source": [
    "## Análise de Deformação"
   ],
   "cell_type": "markdown",
   "metadata": {}
  },
  {
   "source": [
    "# Parte II"
   ],
   "cell_type": "markdown",
   "metadata": {}
  },
  {
   "source": [
    "## Deformação na Flexão"
   ],
   "cell_type": "markdown",
   "metadata": {}
  },
  {
   "source": [
    "## Flambagem de Colunas"
   ],
   "cell_type": "markdown",
   "metadata": {}
  },
  {
   "source": [
    "# Parte III"
   ],
   "cell_type": "markdown",
   "metadata": {}
  },
  {
   "source": [
    "## Energia de Deformação"
   ],
   "cell_type": "markdown",
   "metadata": {}
  },
  {
   "source": [
    "## Princípio dos Trabalhos Virtuais"
   ],
   "cell_type": "markdown",
   "metadata": {}
  }
 ]
}